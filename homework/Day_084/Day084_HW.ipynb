{
 "cells": [
  {
   "cell_type": "markdown",
   "metadata": {},
   "source": [
    "## Work\n",
    "### 請結合前面的知識與程式碼，比較不同的 regularization 的組合對訓練的結果與影響：如 dropout, regularizers, batch-normalization 等"
   ]
  },
  {
   "cell_type": "code",
   "execution_count": 1,
   "metadata": {},
   "outputs": [
    {
     "name": "stderr",
     "output_type": "stream",
     "text": [
      "Using TensorFlow backend.\n"
     ]
    }
   ],
   "source": [
    "import os\n",
    "import keras\n",
    "import itertools\n",
    "# Disable GPU\n",
    "#os.environ[\"CUDA_VISIBLE_DEVICES\"] = \"\""
   ]
  },
  {
   "cell_type": "code",
   "execution_count": 2,
   "metadata": {},
   "outputs": [],
   "source": [
    "train, test = keras.datasets.cifar10.load_data()"
   ]
  },
  {
   "cell_type": "code",
   "execution_count": 3,
   "metadata": {},
   "outputs": [],
   "source": [
    "## 資料前處理\n",
    "def preproc_x(x, flatten=True):\n",
    "    x = x / 255.\n",
    "    if flatten:\n",
    "        x = x.reshape((len(x), -1))\n",
    "    return x\n",
    "\n",
    "def preproc_y(y, num_classes=10):\n",
    "    if y.shape[-1] == 1:\n",
    "        y = keras.utils.to_categorical(y, num_classes)\n",
    "    return y    "
   ]
  },
  {
   "cell_type": "code",
   "execution_count": 4,
   "metadata": {},
   "outputs": [],
   "source": [
    "x_train, y_train = train\n",
    "x_test, y_test = test\n",
    "\n",
    "# Preproc the inputs\n",
    "x_train = preproc_x(x_train)\n",
    "x_test = preproc_x(x_test)\n",
    "\n",
    "# Preprc the outputs\n",
    "y_train = preproc_y(y_train)\n",
    "y_test = preproc_y(y_test)"
   ]
  },
  {
   "cell_type": "code",
   "execution_count": 6,
   "metadata": {},
   "outputs": [],
   "source": [
    "from keras.layers import Dropout,BatchNormalization\n",
    "from keras.regularizers import l1, l2, l1_l2\n",
    "def build_mlp(input_shape, output_units=10, num_neurons=[512, 256, 128],l2_ratio=1e-4, drp_ratio=0.2):\n",
    "    input_layer = keras.layers.Input(input_shape)\n",
    "    \n",
    "    for i, n_units in enumerate(num_neurons):\n",
    "        if i == 0:\n",
    "            x = keras.layers.Dense(units=n_units, \n",
    "                                   activation=\"relu\", \n",
    "                                   name=\"hidden_layer\"+str(i+1),\n",
    "                                   kernel_regularizer=l2(l2_ratio))(input_layer)\n",
    "            x = Dropout(drp_ratio)(x)\n",
    "            x = BatchNormalization()(x)\n",
    "        else:\n",
    "            x = keras.layers.Dense(units=n_units, \n",
    "                                   activation=\"relu\", \n",
    "                                   name=\"hidden_layer\"+str(i+1),\n",
    "                                   kernel_regularizer=l2(l2_ratio))(x)\n",
    "            x = Dropout(drp_ratio)(x)\n",
    "            x = BatchNormalization()(x)\n",
    "    \n",
    "    out = keras.layers.Dense(units=output_units, activation=\"softmax\", name=\"output\")(x)\n",
    "    \n",
    "    model = keras.models.Model(inputs=[input_layer], outputs=[out])\n",
    "    return model"
   ]
  },
  {
   "cell_type": "code",
   "execution_count": 7,
   "metadata": {},
   "outputs": [],
   "source": [
    "LEARNING_RATE = 1e-3\n",
    "EPOCHS = 50\n",
    "BATCH_SIZE = 256\n",
    "MOMENTUM = 0.95\n",
    "L2_EXP = 1e-2\n",
    "Dropout_EXP = 0.25"
   ]
  },
  {
   "cell_type": "code",
   "execution_count": 9,
   "metadata": {
    "scrolled": true
   },
   "outputs": [
    {
     "name": "stdout",
     "output_type": "stream",
     "text": [
      "Model: \"model_1\"\n",
      "_________________________________________________________________\n",
      "Layer (type)                 Output Shape              Param #   \n",
      "=================================================================\n",
      "input_1 (InputLayer)         (None, 3072)              0         \n",
      "_________________________________________________________________\n",
      "hidden_layer1 (Dense)        (None, 512)               1573376   \n",
      "_________________________________________________________________\n",
      "dropout_1 (Dropout)          (None, 512)               0         \n",
      "_________________________________________________________________\n",
      "batch_normalization_1 (Batch (None, 512)               2048      \n",
      "_________________________________________________________________\n",
      "hidden_layer2 (Dense)        (None, 256)               131328    \n",
      "_________________________________________________________________\n",
      "dropout_2 (Dropout)          (None, 256)               0         \n",
      "_________________________________________________________________\n",
      "batch_normalization_2 (Batch (None, 256)               1024      \n",
      "_________________________________________________________________\n",
      "hidden_layer3 (Dense)        (None, 128)               32896     \n",
      "_________________________________________________________________\n",
      "dropout_3 (Dropout)          (None, 128)               0         \n",
      "_________________________________________________________________\n",
      "batch_normalization_3 (Batch (None, 128)               512       \n",
      "_________________________________________________________________\n",
      "output (Dense)               (None, 10)                1290      \n",
      "=================================================================\n",
      "Total params: 1,742,474\n",
      "Trainable params: 1,740,682\n",
      "Non-trainable params: 1,792\n",
      "_________________________________________________________________\n",
      "Train on 50000 samples, validate on 10000 samples\n",
      "Epoch 1/50\n",
      "50000/50000 [==============================] - 5s 93us/step - loss: 15.4096 - accuracy: 0.2204 - val_loss: 13.9301 - val_accuracy: 0.3387\n",
      "Epoch 2/50\n",
      "50000/50000 [==============================] - 3s 68us/step - loss: 13.1470 - accuracy: 0.3045 - val_loss: 12.0730 - val_accuracy: 0.3639\n",
      "Epoch 3/50\n",
      "50000/50000 [==============================] - 3s 69us/step - loss: 11.3992 - accuracy: 0.3440 - val_loss: 10.5401 - val_accuracy: 0.3884\n",
      "Epoch 4/50\n",
      "50000/50000 [==============================] - 3s 68us/step - loss: 9.9307 - accuracy: 0.3661 - val_loss: 9.1562 - val_accuracy: 0.4163\n",
      "Epoch 5/50\n",
      "50000/50000 [==============================] - 3s 69us/step - loss: 8.6968 - accuracy: 0.3822 - val_loss: 8.0669 - val_accuracy: 0.4143\n",
      "Epoch 6/50\n",
      "50000/50000 [==============================] - 3s 68us/step - loss: 7.6603 - accuracy: 0.3953 - val_loss: 7.1024 - val_accuracy: 0.4348\n",
      "Epoch 7/50\n",
      "50000/50000 [==============================] - 3s 68us/step - loss: 6.7643 - accuracy: 0.4085 - val_loss: 6.3586 - val_accuracy: 0.4113\n",
      "Epoch 8/50\n",
      "50000/50000 [==============================] - 3s 68us/step - loss: 6.0131 - accuracy: 0.4093 - val_loss: 5.6053 - val_accuracy: 0.4371\n",
      "Epoch 9/50\n",
      "50000/50000 [==============================] - 3s 68us/step - loss: 5.3785 - accuracy: 0.4138 - val_loss: 5.0767 - val_accuracy: 0.4172\n",
      "Epoch 10/50\n",
      "50000/50000 [==============================] - 3s 68us/step - loss: 4.8403 - accuracy: 0.4180 - val_loss: 4.5533 - val_accuracy: 0.4383\n",
      "Epoch 11/50\n",
      "50000/50000 [==============================] - 3s 67us/step - loss: 4.3809 - accuracy: 0.4169 - val_loss: 4.2425 - val_accuracy: 0.4025\n",
      "Epoch 12/50\n",
      "50000/50000 [==============================] - 3s 67us/step - loss: 3.9858 - accuracy: 0.4173 - val_loss: 3.7542 - val_accuracy: 0.4351\n",
      "Epoch 13/50\n",
      "50000/50000 [==============================] - 3s 67us/step - loss: 3.6417 - accuracy: 0.4241 - val_loss: 3.4287 - val_accuracy: 0.4421\n",
      "Epoch 14/50\n",
      "50000/50000 [==============================] - 3s 67us/step - loss: 3.3596 - accuracy: 0.4216 - val_loss: 3.1716 - val_accuracy: 0.4418\n",
      "Epoch 15/50\n",
      "50000/50000 [==============================] - 3s 67us/step - loss: 3.1077 - accuracy: 0.4250 - val_loss: 2.9264 - val_accuracy: 0.4505\n",
      "Epoch 16/50\n",
      "50000/50000 [==============================] - 3s 68us/step - loss: 2.9002 - accuracy: 0.4233 - val_loss: 2.8899 - val_accuracy: 0.3881\n",
      "Epoch 17/50\n",
      "50000/50000 [==============================] - 3s 67us/step - loss: 2.7179 - accuracy: 0.4282 - val_loss: 2.6144 - val_accuracy: 0.4351\n",
      "Epoch 18/50\n",
      "50000/50000 [==============================] - 3s 67us/step - loss: 2.5514 - accuracy: 0.4303 - val_loss: 2.5721 - val_accuracy: 0.4043\n",
      "Epoch 19/50\n",
      "50000/50000 [==============================] - 3s 68us/step - loss: 2.4184 - accuracy: 0.4314 - val_loss: 2.3386 - val_accuracy: 0.4324\n",
      "Epoch 20/50\n",
      "50000/50000 [==============================] - 3s 68us/step - loss: 2.3104 - accuracy: 0.4328 - val_loss: 2.2545 - val_accuracy: 0.4379\n",
      "Epoch 21/50\n",
      "50000/50000 [==============================] - 3s 68us/step - loss: 2.2158 - accuracy: 0.4318 - val_loss: 2.1987 - val_accuracy: 0.4208\n",
      "Epoch 22/50\n",
      "50000/50000 [==============================] - 3s 68us/step - loss: 2.1389 - accuracy: 0.4317 - val_loss: 2.2566 - val_accuracy: 0.3916\n",
      "Epoch 23/50\n",
      "50000/50000 [==============================] - 3s 68us/step - loss: 2.0770 - accuracy: 0.4272 - val_loss: 2.0634 - val_accuracy: 0.4114\n",
      "Epoch 24/50\n",
      "50000/50000 [==============================] - 3s 67us/step - loss: 2.0107 - accuracy: 0.4336 - val_loss: 1.9885 - val_accuracy: 0.4360\n",
      "Epoch 25/50\n",
      "50000/50000 [==============================] - 3s 68us/step - loss: 1.9544 - accuracy: 0.4354 - val_loss: 2.0412 - val_accuracy: 0.3774\n",
      "Epoch 26/50\n",
      "50000/50000 [==============================] - 3s 67us/step - loss: 1.9254 - accuracy: 0.4333 - val_loss: 1.9075 - val_accuracy: 0.4299\n",
      "Epoch 27/50\n",
      "50000/50000 [==============================] - 3s 68us/step - loss: 1.8905 - accuracy: 0.4346 - val_loss: 1.8451 - val_accuracy: 0.4450\n",
      "Epoch 28/50\n",
      "50000/50000 [==============================] - 3s 67us/step - loss: 1.8435 - accuracy: 0.4372 - val_loss: 1.7856 - val_accuracy: 0.4598\n",
      "Epoch 29/50\n",
      "50000/50000 [==============================] - 3s 68us/step - loss: 1.8130 - accuracy: 0.4381 - val_loss: 1.7534 - val_accuracy: 0.4590\n",
      "Epoch 30/50\n",
      "50000/50000 [==============================] - 3s 68us/step - loss: 1.7873 - accuracy: 0.4407 - val_loss: 1.7397 - val_accuracy: 0.4496\n",
      "Epoch 31/50\n",
      "50000/50000 [==============================] - 3s 67us/step - loss: 1.7595 - accuracy: 0.4452 - val_loss: 1.7551 - val_accuracy: 0.4423\n",
      "Epoch 32/50\n",
      "50000/50000 [==============================] - 3s 66us/step - loss: 1.7484 - accuracy: 0.4437 - val_loss: 1.6597 - val_accuracy: 0.4694\n",
      "Epoch 33/50\n",
      "50000/50000 [==============================] - 3s 67us/step - loss: 1.7336 - accuracy: 0.4434 - val_loss: 1.7415 - val_accuracy: 0.4472\n",
      "Epoch 34/50\n",
      "50000/50000 [==============================] - 3s 67us/step - loss: 1.7169 - accuracy: 0.4443 - val_loss: 1.7315 - val_accuracy: 0.4383\n",
      "Epoch 35/50\n",
      "50000/50000 [==============================] - 3s 66us/step - loss: 1.7088 - accuracy: 0.4437 - val_loss: 1.6567 - val_accuracy: 0.4656\n",
      "Epoch 36/50\n",
      "50000/50000 [==============================] - 3s 66us/step - loss: 1.6954 - accuracy: 0.4473 - val_loss: 1.7445 - val_accuracy: 0.4381\n",
      "Epoch 37/50\n",
      "50000/50000 [==============================] - 3s 66us/step - loss: 1.6857 - accuracy: 0.4487 - val_loss: 1.6448 - val_accuracy: 0.4600\n",
      "Epoch 38/50\n",
      "50000/50000 [==============================] - 3s 66us/step - loss: 1.6641 - accuracy: 0.4560 - val_loss: 1.6389 - val_accuracy: 0.4546\n",
      "Epoch 39/50\n",
      "50000/50000 [==============================] - 3s 66us/step - loss: 1.6707 - accuracy: 0.4493 - val_loss: 1.6434 - val_accuracy: 0.4590\n",
      "Epoch 40/50\n",
      "50000/50000 [==============================] - 3s 66us/step - loss: 1.6586 - accuracy: 0.4536 - val_loss: 1.6469 - val_accuracy: 0.4514\n",
      "Epoch 41/50\n",
      "50000/50000 [==============================] - 3s 66us/step - loss: 1.6863 - accuracy: 0.4398 - val_loss: 1.6777 - val_accuracy: 0.4450\n",
      "Epoch 42/50\n",
      "50000/50000 [==============================] - 3s 66us/step - loss: 1.6840 - accuracy: 0.4403 - val_loss: 1.6940 - val_accuracy: 0.4354\n",
      "Epoch 43/50\n"
     ]
    },
    {
     "name": "stdout",
     "output_type": "stream",
     "text": [
      "50000/50000 [==============================] - 3s 67us/step - loss: 1.6747 - accuracy: 0.4422 - val_loss: 1.6238 - val_accuracy: 0.4561\n",
      "Epoch 44/50\n",
      "50000/50000 [==============================] - 3s 67us/step - loss: 1.6570 - accuracy: 0.4490 - val_loss: 1.7444 - val_accuracy: 0.4083\n",
      "Epoch 45/50\n",
      "50000/50000 [==============================] - 3s 66us/step - loss: 1.6683 - accuracy: 0.4442 - val_loss: 1.6447 - val_accuracy: 0.4529\n",
      "Epoch 46/50\n",
      "50000/50000 [==============================] - 3s 66us/step - loss: 1.6618 - accuracy: 0.4472 - val_loss: 1.5812 - val_accuracy: 0.4787\n",
      "Epoch 47/50\n",
      "50000/50000 [==============================] - 3s 67us/step - loss: 1.6469 - accuracy: 0.4526 - val_loss: 1.6074 - val_accuracy: 0.4646\n",
      "Epoch 48/50\n",
      "50000/50000 [==============================] - 3s 66us/step - loss: 1.6419 - accuracy: 0.4540 - val_loss: 1.7203 - val_accuracy: 0.4297\n",
      "Epoch 49/50\n",
      "50000/50000 [==============================] - 3s 67us/step - loss: 1.6377 - accuracy: 0.4562 - val_loss: 1.6546 - val_accuracy: 0.4495\n",
      "Epoch 50/50\n",
      "50000/50000 [==============================] - 3s 66us/step - loss: 1.6248 - accuracy: 0.4580 - val_loss: 1.6665 - val_accuracy: 0.4342\n"
     ]
    }
   ],
   "source": [
    "results = {}\n",
    "model = build_mlp(input_shape=x_train.shape[1:], l2_ratio=L2_EXP, drp_ratio=Dropout_EXP)\n",
    "model.summary()\n",
    "optimizer = keras.optimizers.SGD(lr=LEARNING_RATE, nesterov=True, momentum=MOMENTUM)\n",
    "model.compile(loss=\"categorical_crossentropy\", metrics=[\"accuracy\"], optimizer=optimizer)\n",
    "\n",
    "model.fit(x_train, y_train, \n",
    "          epochs=EPOCHS, \n",
    "          batch_size=BATCH_SIZE, \n",
    "          validation_data=(x_test, y_test), \n",
    "          shuffle=True)\n",
    "\n",
    "# Collect results\n",
    "train_loss = model.history.history[\"loss\"]\n",
    "valid_loss = model.history.history[\"val_loss\"]\n",
    "train_acc = model.history.history[\"accuracy\"]\n",
    "valid_acc = model.history.history[\"val_accuracy\"]"
   ]
  },
  {
   "cell_type": "code",
   "execution_count": 10,
   "metadata": {},
   "outputs": [
    {
     "data": {
      "image/png": "[encoded data removed]",
      "text/plain": [
       "<Figure size 432x288 with 1 Axes>"
      ]
     },
     "metadata": {
      "needs_background": "light"
     },
     "output_type": "display_data"
    },
    {
     "data": {
      "image/png": "[encoded data removed]",
      "text/plain": [
       "<Figure size 432x288 with 1 Axes>"
      ]
     },
     "metadata": {
      "needs_background": "light"
     },
     "output_type": "display_data"
    }
   ],
   "source": [
    "import matplotlib.pyplot as plt\n",
    "%matplotlib inline\n",
    "\n",
    "plt.plot(range(len(train_loss)), train_loss, label=\"train loss\")\n",
    "plt.plot(range(len(valid_loss)), valid_loss, label=\"valid loss\")\n",
    "plt.legend()\n",
    "plt.title(\"Loss\")\n",
    "plt.show()\n",
    "\n",
    "plt.plot(range(len(train_acc)), train_acc, label=\"train accuracy\")\n",
    "plt.plot(range(len(valid_acc)), valid_acc, label=\"valid accuracy\")\n",
    "plt.legend()\n",
    "plt.title(\"Accuracy\")\n",
    "plt.show()"
   ]
  },
  {
   "cell_type": "code",
   "execution_count": null,
   "metadata": {},
   "outputs": [],
   "source": []
  }
 ],
 "metadata": {
  "kernelspec": {
   "display_name": "Python 3",
   "language": "python",
   "name": "python3"
  },
  "language_info": {
   "codemirror_mode": {
    "name": "ipython",
    "version": 3
   },
   "file_extension": ".py",
   "mimetype": "text/x-python",
   "name": "python",
   "nbconvert_exporter": "python",
   "pygments_lexer": "ipython3",
   "version": "3.7.3"
  }
 },
 "nbformat": 4,
 "nbformat_minor": 2
}
