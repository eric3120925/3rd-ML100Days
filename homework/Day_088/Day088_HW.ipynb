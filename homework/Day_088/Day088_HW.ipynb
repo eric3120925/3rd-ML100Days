{
 "cells": [
  {
   "cell_type": "markdown",
   "metadata": {},
   "source": [
    "## Work\n",
    "1. 請嘗試寫一個 callback 用來記錄各類別在訓練過程中，對驗證集的 True Positive 與 True Negative"
   ]
  },
  {
   "cell_type": "code",
   "execution_count": 1,
   "metadata": {},
   "outputs": [
    {
     "name": "stderr",
     "output_type": "stream",
     "text": [
      "Using TensorFlow backend.\n"
     ]
    }
   ],
   "source": [
    "import os\n",
    "import keras\n",
    "\n",
    "# Disable GPU\n",
    "os.environ[\"CUDA_VISIBLE_DEVICES\"] = \"0\""
   ]
  },
  {
   "cell_type": "code",
   "execution_count": 2,
   "metadata": {},
   "outputs": [],
   "source": [
    "train, test = keras.datasets.cifar10.load_data()"
   ]
  },
  {
   "cell_type": "code",
   "execution_count": 3,
   "metadata": {},
   "outputs": [],
   "source": [
    "## 資料前處理\n",
    "def preproc_x(x, flatten=True):\n",
    "    x = x / 255.\n",
    "    if flatten:\n",
    "        x = x.reshape((len(x), -1))\n",
    "    return x\n",
    "\n",
    "def preproc_y(y, num_classes=10):\n",
    "    if y.shape[-1] == 1:\n",
    "        y = keras.utils.to_categorical(y, num_classes)\n",
    "    return y    "
   ]
  },
  {
   "cell_type": "code",
   "execution_count": 4,
   "metadata": {},
   "outputs": [],
   "source": [
    "x_train, y_train = train\n",
    "x_test, y_test = test\n",
    "\n",
    "# Preproc the inputs\n",
    "x_train = preproc_x(x_train)\n",
    "x_test = preproc_x(x_test)\n",
    "\n",
    "# Preprc the outputs\n",
    "y_train = preproc_y(y_train)\n",
    "y_test = preproc_y(y_test)"
   ]
  },
  {
   "cell_type": "code",
   "execution_count": 5,
   "metadata": {},
   "outputs": [],
   "source": [
    "from keras.layers import BatchNormalization\n",
    "def build_mlp(input_shape, output_units=10, num_neurons=[512, 256, 128]):\n",
    "    input_layer = keras.layers.Input(input_shape)\n",
    "    \n",
    "    for i, n_units in enumerate(num_neurons):\n",
    "        if i == 0:\n",
    "            x = keras.layers.Dense(units=n_units, \n",
    "                                   activation=\"relu\", \n",
    "                                   name=\"hidden_layer\"+str(i+1))(input_layer)\n",
    "            x = BatchNormalization()(x)\n",
    "        else:\n",
    "            x = keras.layers.Dense(units=n_units, \n",
    "                                   activation=\"relu\", \n",
    "                                   name=\"hidden_layer\"+str(i+1))(x)\n",
    "            x = BatchNormalization()(x)\n",
    "    \n",
    "    out = keras.layers.Dense(units=output_units, activation=\"softmax\", name=\"output\")(x)\n",
    "    \n",
    "    model = keras.models.Model(inputs=[input_layer], outputs=[out])\n",
    "    return model"
   ]
  },
  {
   "cell_type": "code",
   "execution_count": 6,
   "metadata": {},
   "outputs": [],
   "source": [
    "## 超參數設定\n",
    "LEARNING_RATE = 1e-3\n",
    "EPOCHS = 25\n",
    "BATCH_SIZE = 1024\n",
    "MOMENTUM = 0.95"
   ]
  },
  {
   "cell_type": "code",
   "execution_count": 10,
   "metadata": {},
   "outputs": [],
   "source": [
    "# 載入 Callbacks\n",
    "from keras.callbacks import Callback\n",
    "import numpy as np\n",
    "# Record_fp_tp\n",
    "class Record_tp_tn(Callback):\n",
    "    def on_train_begin(self, epoch, logs = {}):\n",
    "        logs = logs or {}\n",
    "        record_items = [\"val_auc\", \"val_f1sc\", \"val_fp\", \"val_fn\", \"val_tp\", \"val_tn\"]\n",
    "        for i in record_items:\n",
    "            if i not in self.params['metrics']:\n",
    "                self.params['metrics'].append(i)\n",
    "    \n",
    "    def on_epoch_end(self, epoch, logs = {}, thres=0.5):\n",
    "        logs = logs or {}\n",
    "        y_true = self.validation_data[1].argmax(axis = 1)\n",
    "        y_pred = self.model.predict(self.validation_data[0])\n",
    "        y_pred = (y_pred[:, 1] >= thres) * 1\n",
    "        \n",
    "        logs[\"val_tp\"]= np.sum(np.logical_and(y_pred == 1, y_true == 1))\n",
    "        logs[\"val_tn\"]= np.sum(np.logical_and(y_pred == 0, y_true == 0))\n",
    "        \n",
    "rec_tptn = Record_tp_tn()"
   ]
  },
  {
   "cell_type": "code",
   "execution_count": 12,
   "metadata": {
    "scrolled": true
   },
   "outputs": [
    {
     "name": "stdout",
     "output_type": "stream",
     "text": [
      "Model: \"model_3\"\n",
      "_________________________________________________________________\n",
      "Layer (type)                 Output Shape              Param #   \n",
      "=================================================================\n",
      "input_3 (InputLayer)         (None, 3072)              0         \n",
      "_________________________________________________________________\n",
      "hidden_layer1 (Dense)        (None, 512)               1573376   \n",
      "_________________________________________________________________\n",
      "batch_normalization_7 (Batch (None, 512)               2048      \n",
      "_________________________________________________________________\n",
      "hidden_layer2 (Dense)        (None, 256)               131328    \n",
      "_________________________________________________________________\n",
      "batch_normalization_8 (Batch (None, 256)               1024      \n",
      "_________________________________________________________________\n",
      "hidden_layer3 (Dense)        (None, 128)               32896     \n",
      "_________________________________________________________________\n",
      "batch_normalization_9 (Batch (None, 128)               512       \n",
      "_________________________________________________________________\n",
      "output (Dense)               (None, 10)                1290      \n",
      "=================================================================\n",
      "Total params: 1,742,474\n",
      "Trainable params: 1,740,682\n",
      "Non-trainable params: 1,792\n",
      "_________________________________________________________________\n",
      "Train on 50000 samples, validate on 10000 samples\n",
      "Epoch 1/25\n",
      "50000/50000 [==============================] - 3s 52us/step - loss: 2.2247 - accuracy: 0.2646 - val_loss: 2.1573 - val_accuracy: 0.1797\n",
      "Epoch 2/25\n",
      "50000/50000 [==============================] - 2s 39us/step - loss: 1.7436 - accuracy: 0.3930 - val_loss: 1.9871 - val_accuracy: 0.2957\n",
      "Epoch 3/25\n",
      "50000/50000 [==============================] - 2s 39us/step - loss: 1.6195 - accuracy: 0.4363 - val_loss: 1.8463 - val_accuracy: 0.3534\n",
      "Epoch 4/25\n",
      "50000/50000 [==============================] - 2s 40us/step - loss: 1.5453 - accuracy: 0.4599 - val_loss: 1.7374 - val_accuracy: 0.3898\n",
      "Epoch 5/25\n",
      "50000/50000 [==============================] - 2s 39us/step - loss: 1.4914 - accuracy: 0.4791 - val_loss: 1.6597 - val_accuracy: 0.4097\n",
      "Epoch 6/25\n",
      "50000/50000 [==============================] - 2s 40us/step - loss: 1.4461 - accuracy: 0.4953 - val_loss: 1.5992 - val_accuracy: 0.4325\n",
      "Epoch 7/25\n",
      "50000/50000 [==============================] - 2s 41us/step - loss: 1.4062 - accuracy: 0.5103 - val_loss: 1.5592 - val_accuracy: 0.4515\n",
      "Epoch 8/25\n",
      "50000/50000 [==============================] - 2s 40us/step - loss: 1.3711 - accuracy: 0.5249 - val_loss: 1.5367 - val_accuracy: 0.4546\n",
      "Epoch 9/25\n",
      "50000/50000 [==============================] - 2s 41us/step - loss: 1.3384 - accuracy: 0.5346 - val_loss: 1.5100 - val_accuracy: 0.4672\n",
      "Epoch 10/25\n",
      "50000/50000 [==============================] - 2s 45us/step - loss: 1.3099 - accuracy: 0.5455 - val_loss: 1.4979 - val_accuracy: 0.4684\n",
      "Epoch 11/25\n",
      "50000/50000 [==============================] - 2s 40us/step - loss: 1.2799 - accuracy: 0.5568 - val_loss: 1.4881 - val_accuracy: 0.4763\n",
      "Epoch 12/25\n",
      "50000/50000 [==============================] - 2s 40us/step - loss: 1.2534 - accuracy: 0.5671 - val_loss: 1.4871 - val_accuracy: 0.4783\n",
      "Epoch 13/25\n",
      "50000/50000 [==============================] - 2s 38us/step - loss: 1.2292 - accuracy: 0.5754 - val_loss: 1.4831 - val_accuracy: 0.4794\n",
      "Epoch 14/25\n",
      "50000/50000 [==============================] - 2s 38us/step - loss: 1.2020 - accuracy: 0.5858 - val_loss: 1.4654 - val_accuracy: 0.4881\n",
      "Epoch 15/25\n",
      "50000/50000 [==============================] - 2s 38us/step - loss: 1.1782 - accuracy: 0.5936 - val_loss: 1.4751 - val_accuracy: 0.4813\n",
      "Epoch 16/25\n",
      "50000/50000 [==============================] - 2s 38us/step - loss: 1.1549 - accuracy: 0.6041 - val_loss: 1.4561 - val_accuracy: 0.4886\n",
      "Epoch 17/25\n",
      "50000/50000 [==============================] - 2s 39us/step - loss: 1.1335 - accuracy: 0.6114 - val_loss: 1.4625 - val_accuracy: 0.4879\n",
      "Epoch 18/25\n",
      "50000/50000 [==============================] - 2s 38us/step - loss: 1.1099 - accuracy: 0.6193 - val_loss: 1.4707 - val_accuracy: 0.4922\n",
      "Epoch 19/25\n",
      "50000/50000 [==============================] - 2s 39us/step - loss: 1.0878 - accuracy: 0.6288 - val_loss: 1.4539 - val_accuracy: 0.4996\n",
      "Epoch 20/25\n",
      "50000/50000 [==============================] - 2s 39us/step - loss: 1.0654 - accuracy: 0.6363 - val_loss: 1.4562 - val_accuracy: 0.4964\n",
      "Epoch 21/25\n",
      "50000/50000 [==============================] - 2s 38us/step - loss: 1.0439 - accuracy: 0.6454 - val_loss: 1.4601 - val_accuracy: 0.4927\n",
      "Epoch 22/25\n",
      "50000/50000 [==============================] - 2s 38us/step - loss: 1.0231 - accuracy: 0.6531 - val_loss: 1.4573 - val_accuracy: 0.4971\n",
      "Epoch 23/25\n",
      "50000/50000 [==============================] - 2s 39us/step - loss: 1.0046 - accuracy: 0.6620 - val_loss: 1.4674 - val_accuracy: 0.4938\n",
      "Epoch 24/25\n",
      "50000/50000 [==============================] - 2s 38us/step - loss: 0.9811 - accuracy: 0.6699 - val_loss: 1.4559 - val_accuracy: 0.4993\n",
      "Epoch 25/25\n",
      "50000/50000 [==============================] - 2s 38us/step - loss: 0.9612 - accuracy: 0.6782 - val_loss: 1.4674 - val_accuracy: 0.4974\n"
     ]
    }
   ],
   "source": [
    "model = build_mlp(input_shape=x_train.shape[1:])\n",
    "model.summary()\n",
    "optimizer = keras.optimizers.SGD(lr=LEARNING_RATE, nesterov=True, momentum=MOMENTUM)\n",
    "model.compile(loss=\"categorical_crossentropy\", metrics=[\"accuracy\"], optimizer=optimizer)\n",
    "\n",
    "\n",
    "#將 callbacks 放入模型訓練流程中\n",
    "model.fit(x_train, y_train, \n",
    "          epochs=EPOCHS, \n",
    "          batch_size=BATCH_SIZE, \n",
    "          validation_data=(x_test, y_test), \n",
    "          shuffle=True,\n",
    "          callbacks=[rec_tptn]\n",
    "         )\n",
    "\n",
    "# Collect results\n",
    "train_loss = model.history.history[\"loss\"]\n",
    "valid_loss = model.history.history[\"val_loss\"]\n",
    "train_acc = model.history.history[\"accuracy\"]\n",
    "valid_acc = model.history.history[\"val_accuracy\"]\n",
    "\n",
    "\n",
    "#將 tp/tn 從訓練完的模型中取出\n",
    "valid_tp = model.history.history['val_tp']\n",
    "valid_tn = model.history.history['val_tn']"
   ]
  },
  {
   "cell_type": "code",
   "execution_count": 13,
   "metadata": {},
   "outputs": [
    {
     "data": {
      "image/png": "[encoded data removed]",
      "text/plain": [
       "<Figure size 432x288 with 1 Axes>"
      ]
     },
     "metadata": {
      "needs_background": "light"
     },
     "output_type": "display_data"
    },
    {
     "data": {
      "image/png": "[encoded data removed]",
      "text/plain": [
       "<Figure size 432x288 with 1 Axes>"
      ]
     },
     "metadata": {
      "needs_background": "light"
     },
     "output_type": "display_data"
    },
    {
     "data": {
      "image/png": "[encoded data removed]",
      "text/plain": [
       "<Figure size 432x288 with 1 Axes>"
      ]
     },
     "metadata": {
      "needs_background": "light"
     },
     "output_type": "display_data"
    }
   ],
   "source": [
    "import matplotlib.pyplot as plt\n",
    "%matplotlib inline\n",
    "\n",
    "plt.plot(range(len(train_loss)), train_loss, label=\"train loss\")\n",
    "plt.plot(range(len(valid_loss)), valid_loss, label=\"valid loss\")\n",
    "plt.legend()\n",
    "plt.title(\"Loss\")\n",
    "plt.show()\n",
    "\n",
    "plt.plot(range(len(train_acc)), train_acc, label=\"train accuracy\")\n",
    "plt.plot(range(len(valid_acc)), valid_acc, label=\"valid accuracy\")\n",
    "plt.legend()\n",
    "plt.title(\"Accuracy\")\n",
    "plt.show()\n",
    "\n",
    "plt.plot(range(len(valid_tp)), valid_tp, label=\"valid tp\", color=\"navy\")\n",
    "plt.plot(range(len(valid_tn)), valid_tn, label=\"valid tn\", color=\"red\")\n",
    "plt.legend()\n",
    "plt.title(\"True positives and True Negatives\")\n",
    "plt.show()\n"
   ]
  },
  {
   "cell_type": "code",
   "execution_count": null,
   "metadata": {},
   "outputs": [],
   "source": []
  }
 ],
 "metadata": {
  "kernelspec": {
   "display_name": "Python 3",
   "language": "python",
   "name": "python3"
  },
  "language_info": {
   "codemirror_mode": {
    "name": "ipython",
    "version": 3
   },
   "file_extension": ".py",
   "mimetype": "text/x-python",
   "name": "python",
   "nbconvert_exporter": "python",
   "pygments_lexer": "ipython3",
   "version": "3.7.3"
  }
 },
 "nbformat": 4,
 "nbformat_minor": 2
}
