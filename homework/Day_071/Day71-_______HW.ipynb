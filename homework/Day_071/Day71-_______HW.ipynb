{
 "cells": [
  {
   "cell_type": "markdown",
   "metadata": {
    "colab_type": "text",
    "id": "cj4tE8e8iUtO"
   },
   "source": [
    "#   \n",
    "\n",
    "# 作業目標:\n",
    "\n",
    "    1. 藉由固定的 dataset, 來驗證不同loss function\n",
    "    2. Dataset 的特性跟我們選用的loss function 對accrancy 的影響\n",
    "    \n",
    "    \n",
    "# 作業重點: \n",
    "    請分別選用 \"MSE\", \"binary _crossentropy\"\n",
    "    查看Train/test accurancy and loss rate\n",
    "    "
   ]
  },
  {
   "cell_type": "markdown",
   "metadata": {
    "colab_type": "text",
    "id": "R51J4KyyiUsL"
   },
   "source": [
    "# 導入必要的函數"
   ]
  },
  {
   "cell_type": "code",
   "execution_count": 1,
   "metadata": {
    "colab": {},
    "colab_type": "code",
    "id": "Qd68OQjciUsM"
   },
   "outputs": [
    {
     "name": "stderr",
     "output_type": "stream",
     "text": [
      "Using TensorFlow backend.\n"
     ]
    }
   ],
   "source": [
    "from keras.datasets import cifar10\n",
    "import numpy as np\n",
    "np.random.seed(10)"
   ]
  },
  {
   "cell_type": "markdown",
   "metadata": {
    "colab_type": "text",
    "id": "GxKuzQLQiUsP"
   },
   "source": [
    "# 資料準備"
   ]
  },
  {
   "cell_type": "code",
   "execution_count": 2,
   "metadata": {
    "colab": {},
    "colab_type": "code",
    "id": "MIbFZdTCiUsQ"
   },
   "outputs": [],
   "source": [
    "#取得Keras Dataset\n",
    "(x_img_train,y_label_train),(x_img_test,y_label_test)=cifar10.load_data()"
   ]
  },
  {
   "cell_type": "code",
   "execution_count": 3,
   "metadata": {
    "colab": {},
    "colab_type": "code",
    "id": "J8CJVjNOiUsS"
   },
   "outputs": [
    {
     "name": "stdout",
     "output_type": "stream",
     "text": [
      "train data: images: (50000, 32, 32, 3)  labels: (50000, 1)\n",
      "test  data: images: (10000, 32, 32, 3)  labels: (10000, 1)\n"
     ]
    }
   ],
   "source": [
    "#確認 CIFAR10 Dataset 資料維度\n",
    "print(\"train data:\",'images:',x_img_train.shape,\n",
    "      \" labels:\",y_label_train.shape) \n",
    "print(\"test  data:\",'images:',x_img_test.shape ,\n",
    "      \" labels:\",y_label_test.shape) "
   ]
  },
  {
   "cell_type": "code",
   "execution_count": 4,
   "metadata": {
    "colab": {},
    "colab_type": "code",
    "id": "V3P6P4DXiUsV"
   },
   "outputs": [],
   "source": [
    "#資料正規化\n",
    "x_img_train_normalize = x_img_train.astype('float32') / 255.0\n",
    "x_img_test_normalize = x_img_test.astype('float32') / 255.0"
   ]
  },
  {
   "cell_type": "code",
   "execution_count": 5,
   "metadata": {
    "colab": {},
    "colab_type": "code",
    "id": "vsDyjKYliUsX"
   },
   "outputs": [
    {
     "data": {
      "text/plain": [
       "(10000, 10)"
      ]
     },
     "execution_count": 5,
     "metadata": {},
     "output_type": "execute_result"
    }
   ],
   "source": [
    "#針對Label 做 ONE HOT ENCODE\n",
    "from keras.utils import np_utils\n",
    "y_label_train_OneHot = np_utils.to_categorical(y_label_train)\n",
    "y_label_test_OneHot = np_utils.to_categorical(y_label_test)\n",
    "y_label_test_OneHot.shape"
   ]
  },
  {
   "cell_type": "markdown",
   "metadata": {
    "colab_type": "text",
    "id": "RutW2OtgiUsZ"
   },
   "source": [
    "# 建立模型"
   ]
  },
  {
   "cell_type": "code",
   "execution_count": 6,
   "metadata": {
    "colab": {},
    "colab_type": "code",
    "id": "aHz592aXiUsa"
   },
   "outputs": [],
   "source": [
    "from keras.models import Sequential\n",
    "from keras.layers import Dense, Dropout, Activation, Flatten\n",
    "from keras.layers import Conv2D, MaxPooling2D, ZeroPadding2D"
   ]
  },
  {
   "cell_type": "code",
   "execution_count": 7,
   "metadata": {
    "colab": {},
    "colab_type": "code",
    "id": "hslqrIp0iUse"
   },
   "outputs": [],
   "source": [
    "model = Sequential()"
   ]
  },
  {
   "cell_type": "code",
   "execution_count": 8,
   "metadata": {
    "colab": {},
    "colab_type": "code",
    "id": "Hqe35hs2iUsi"
   },
   "outputs": [],
   "source": [
    "#卷積層1"
   ]
  },
  {
   "cell_type": "code",
   "execution_count": 9,
   "metadata": {
    "colab": {},
    "colab_type": "code",
    "id": "ED7dqe1YiUsm"
   },
   "outputs": [],
   "source": [
    "model.add(Conv2D(filters=32,kernel_size=(3,3),\n",
    "                 input_shape=(32, 32,3), \n",
    "                 activation='relu', \n",
    "                 padding='same'))"
   ]
  },
  {
   "cell_type": "code",
   "execution_count": 10,
   "metadata": {
    "colab": {},
    "colab_type": "code",
    "id": "n-GRKmPViUso"
   },
   "outputs": [],
   "source": [
    "model.add(Dropout(rate=0.25))"
   ]
  },
  {
   "cell_type": "code",
   "execution_count": 11,
   "metadata": {
    "colab": {},
    "colab_type": "code",
    "id": "GlWnnD1uiUsw"
   },
   "outputs": [],
   "source": [
    "model.add(MaxPooling2D(pool_size=(2, 2)))"
   ]
  },
  {
   "cell_type": "code",
   "execution_count": 12,
   "metadata": {
    "colab": {},
    "colab_type": "code",
    "id": "nawlkt55iUsy"
   },
   "outputs": [],
   "source": [
    "#卷積層2與池化層2"
   ]
  },
  {
   "cell_type": "code",
   "execution_count": 13,
   "metadata": {
    "colab": {},
    "colab_type": "code",
    "id": "xxyETiKNiUs1"
   },
   "outputs": [],
   "source": [
    "model.add(Conv2D(filters=64, kernel_size=(3, 3), \n",
    "                 activation='relu', padding='same'))"
   ]
  },
  {
   "cell_type": "code",
   "execution_count": 14,
   "metadata": {
    "colab": {},
    "colab_type": "code",
    "id": "RqcKWtqGiUs2"
   },
   "outputs": [],
   "source": [
    "model.add(Dropout(0.25))"
   ]
  },
  {
   "cell_type": "code",
   "execution_count": 15,
   "metadata": {
    "colab": {},
    "colab_type": "code",
    "id": "BUOOzlqfiUs4"
   },
   "outputs": [],
   "source": [
    "model.add(MaxPooling2D(pool_size=(2, 2)))"
   ]
  },
  {
   "cell_type": "code",
   "execution_count": 16,
   "metadata": {
    "colab": {},
    "colab_type": "code",
    "id": "LpkppB2siUs7"
   },
   "outputs": [],
   "source": [
    "#建立神經網路(平坦層、隱藏層、輸出層)"
   ]
  },
  {
   "cell_type": "code",
   "execution_count": 17,
   "metadata": {
    "colab": {},
    "colab_type": "code",
    "id": "UQOfU54_iUs_"
   },
   "outputs": [],
   "source": [
    "model.add(Flatten())\n",
    "model.add(Dropout(rate=0.25))"
   ]
  },
  {
   "cell_type": "code",
   "execution_count": 18,
   "metadata": {
    "colab": {},
    "colab_type": "code",
    "id": "_NV-8sq4iUtD"
   },
   "outputs": [],
   "source": [
    "model.add(Dense(1024, activation='relu'))\n",
    "model.add(Dropout(rate=0.25))"
   ]
  },
  {
   "cell_type": "code",
   "execution_count": 19,
   "metadata": {
    "colab": {},
    "colab_type": "code",
    "id": "qVK77krOiUtF"
   },
   "outputs": [],
   "source": [
    "model.add(Dense(10, activation='softmax'))"
   ]
  },
  {
   "cell_type": "code",
   "execution_count": 20,
   "metadata": {
    "colab": {},
    "colab_type": "code",
    "id": "ZxzRIjR0iUtH"
   },
   "outputs": [
    {
     "name": "stdout",
     "output_type": "stream",
     "text": [
      "Model: \"sequential_1\"\n",
      "_________________________________________________________________\n",
      "Layer (type)                 Output Shape              Param #   \n",
      "=================================================================\n",
      "conv2d_1 (Conv2D)            (None, 32, 32, 32)        896       \n",
      "_________________________________________________________________\n",
      "dropout_1 (Dropout)          (None, 32, 32, 32)        0         \n",
      "_________________________________________________________________\n",
      "max_pooling2d_1 (MaxPooling2 (None, 16, 16, 32)        0         \n",
      "_________________________________________________________________\n",
      "conv2d_2 (Conv2D)            (None, 16, 16, 64)        18496     \n",
      "_________________________________________________________________\n",
      "dropout_2 (Dropout)          (None, 16, 16, 64)        0         \n",
      "_________________________________________________________________\n",
      "max_pooling2d_2 (MaxPooling2 (None, 8, 8, 64)          0         \n",
      "_________________________________________________________________\n",
      "flatten_1 (Flatten)          (None, 4096)              0         \n",
      "_________________________________________________________________\n",
      "dropout_3 (Dropout)          (None, 4096)              0         \n",
      "_________________________________________________________________\n",
      "dense_1 (Dense)              (None, 1024)              4195328   \n",
      "_________________________________________________________________\n",
      "dropout_4 (Dropout)          (None, 1024)              0         \n",
      "_________________________________________________________________\n",
      "dense_2 (Dense)              (None, 10)                10250     \n",
      "=================================================================\n",
      "Total params: 4,224,970\n",
      "Trainable params: 4,224,970\n",
      "Non-trainable params: 0\n",
      "_________________________________________________________________\n",
      "None\n"
     ]
    }
   ],
   "source": [
    "#檢查model 的STACK\n",
    "print(model.summary())"
   ]
  },
  {
   "cell_type": "markdown",
   "metadata": {
    "colab_type": "text",
    "id": "QJCtpJM0iUtJ"
   },
   "source": [
    "# 載入之前訓練的模型"
   ]
  },
  {
   "cell_type": "code",
   "execution_count": 21,
   "metadata": {
    "colab": {},
    "colab_type": "code",
    "id": "JU3A6NzQiUtK"
   },
   "outputs": [
    {
     "name": "stdout",
     "output_type": "stream",
     "text": [
      "載入模型失敗!開始訓練一個新模型\n"
     ]
    }
   ],
   "source": [
    "try:\n",
    "    model.load_weights(\"SaveModel/cifarCnnModel.h5\")\n",
    "    print(\"載入模型成功!繼續訓練模型\")\n",
    "except :    \n",
    "    print(\"載入模型失敗!開始訓練一個新模型\")"
   ]
  },
  {
   "cell_type": "markdown",
   "metadata": {
    "colab_type": "text",
    "id": "qBbCuziziUtM"
   },
   "source": [
    "# 訓練模型"
   ]
  },
  {
   "cell_type": "code",
   "execution_count": 23,
   "metadata": {
    "colab": {},
    "colab_type": "code",
    "id": "Q6BiBcseiUtP"
   },
   "outputs": [
    {
     "data": {
      "text/plain": [
       "'\\n作業:\\n請分別選用 \"MSE\", \"binary _crossentropy\"\\n查看Train/test accurancy and loss rate\\n'"
      ]
     },
     "execution_count": 23,
     "metadata": {},
     "output_type": "execute_result"
    }
   ],
   "source": [
    "model.compile(loss='categorical_crossentropy', optimizer='sgd', metrics=['accuracy'])\n",
    "\n",
    "'''\n",
    "作業:\n",
    "請分別選用 \"MSE\", \"binary _crossentropy\"\n",
    "查看Train/test accurancy and loss rate\n",
    "'''"
   ]
  },
  {
   "cell_type": "code",
   "execution_count": 24,
   "metadata": {
    "colab": {},
    "colab_type": "code",
    "id": "4-GdDgmQiUtS"
   },
   "outputs": [
    {
     "name": "stdout",
     "output_type": "stream",
     "text": [
      "Train on 37500 samples, validate on 12500 samples\n",
      "Epoch 1/12\n",
      "37500/37500 [==============================] - 9s 241us/step - loss: 2.1651 - accuracy: 0.2018 - val_loss: 2.0543 - val_accuracy: 0.2970\n",
      "Epoch 2/12\n",
      "37500/37500 [==============================] - 6s 154us/step - loss: 1.9510 - accuracy: 0.2996 - val_loss: 1.9531 - val_accuracy: 0.3367\n",
      "Epoch 3/12\n",
      "37500/37500 [==============================] - 6s 157us/step - loss: 1.8246 - accuracy: 0.3508 - val_loss: 1.8227 - val_accuracy: 0.3960\n",
      "Epoch 4/12\n",
      "37500/37500 [==============================] - 6s 157us/step - loss: 1.7223 - accuracy: 0.3861 - val_loss: 1.7420 - val_accuracy: 0.4198\n",
      "Epoch 5/12\n",
      "37500/37500 [==============================] - 6s 156us/step - loss: 1.6383 - accuracy: 0.4163 - val_loss: 1.6555 - val_accuracy: 0.4530\n",
      "Epoch 6/12\n",
      "37500/37500 [==============================] - 6s 153us/step - loss: 1.5686 - accuracy: 0.4372 - val_loss: 1.6097 - val_accuracy: 0.4687\n",
      "Epoch 7/12\n",
      "37500/37500 [==============================] - 6s 152us/step - loss: 1.5146 - accuracy: 0.4594 - val_loss: 1.5670 - val_accuracy: 0.4706\n",
      "Epoch 8/12\n",
      "37500/37500 [==============================] - 6s 150us/step - loss: 1.4707 - accuracy: 0.4731 - val_loss: 1.4943 - val_accuracy: 0.5042\n",
      "Epoch 9/12\n",
      "37500/37500 [==============================] - 6s 150us/step - loss: 1.4332 - accuracy: 0.4857 - val_loss: 1.4799 - val_accuracy: 0.5097\n",
      "Epoch 10/12\n",
      "37500/37500 [==============================] - 6s 150us/step - loss: 1.4028 - accuracy: 0.4992 - val_loss: 1.4374 - val_accuracy: 0.5268\n",
      "Epoch 11/12\n",
      "37500/37500 [==============================] - 6s 149us/step - loss: 1.3744 - accuracy: 0.5097 - val_loss: 1.4074 - val_accuracy: 0.5371\n",
      "Epoch 12/12\n",
      "37500/37500 [==============================] - 6s 150us/step - loss: 1.3473 - accuracy: 0.5209 - val_loss: 1.3850 - val_accuracy: 0.5450\n"
     ]
    }
   ],
   "source": [
    "train_history=model.fit(x_img_train_normalize, y_label_train_OneHot,\n",
    "                        validation_split=0.25,\n",
    "                        epochs=12, batch_size=128, verbose=1)"
   ]
  },
  {
   "cell_type": "code",
   "execution_count": 26,
   "metadata": {},
   "outputs": [
    {
     "name": "stdout",
     "output_type": "stream",
     "text": [
      "10000/10000 [==============================] - 1s 108us/step\n",
      "\n",
      "accuracy= 0.5472000241279602\n",
      "loss= 1.3721178833007812\n"
     ]
    }
   ],
   "source": [
    "scores = model.evaluate(x_img_test_normalize, y_label_test_OneHot)\n",
    "print()\n",
    "print('accuracy=',scores[1])\n",
    "print('loss=',scores[0])"
   ]
  },
  {
   "cell_type": "code",
   "execution_count": 27,
   "metadata": {},
   "outputs": [],
   "source": [
    "model.compile(loss='mean_squared_error', optimizer='sgd', metrics=['accuracy'])"
   ]
  },
  {
   "cell_type": "code",
   "execution_count": 28,
   "metadata": {},
   "outputs": [
    {
     "name": "stdout",
     "output_type": "stream",
     "text": [
      "Train on 37500 samples, validate on 12500 samples\n",
      "Epoch 1/12\n",
      "37500/37500 [==============================] - 6s 172us/step - loss: 0.0605 - accuracy: 0.5336 - val_loss: 0.0628 - val_accuracy: 0.5467\n",
      "Epoch 2/12\n",
      "37500/37500 [==============================] - 6s 161us/step - loss: 0.0603 - accuracy: 0.5329 - val_loss: 0.0627 - val_accuracy: 0.5468\n",
      "Epoch 3/12\n",
      "37500/37500 [==============================] - 6s 159us/step - loss: 0.0603 - accuracy: 0.5341 - val_loss: 0.0626 - val_accuracy: 0.5477\n",
      "Epoch 4/12\n",
      "37500/37500 [==============================] - 6s 159us/step - loss: 0.0601 - accuracy: 0.5359 - val_loss: 0.0627 - val_accuracy: 0.5470\n",
      "Epoch 5/12\n",
      "37500/37500 [==============================] - 6s 159us/step - loss: 0.0601 - accuracy: 0.5348 - val_loss: 0.0626 - val_accuracy: 0.5485\n",
      "Epoch 6/12\n",
      "37500/37500 [==============================] - 6s 159us/step - loss: 0.0600 - accuracy: 0.5346 - val_loss: 0.0625 - val_accuracy: 0.5490\n",
      "Epoch 7/12\n",
      "37500/37500 [==============================] - 6s 159us/step - loss: 0.0601 - accuracy: 0.5378 - val_loss: 0.0624 - val_accuracy: 0.5499\n",
      "Epoch 8/12\n",
      "37500/37500 [==============================] - 6s 158us/step - loss: 0.0599 - accuracy: 0.5395 - val_loss: 0.0625 - val_accuracy: 0.5470\n",
      "Epoch 9/12\n",
      "37500/37500 [==============================] - 6s 160us/step - loss: 0.0599 - accuracy: 0.5399 - val_loss: 0.0623 - val_accuracy: 0.5511\n",
      "Epoch 10/12\n",
      "37500/37500 [==============================] - 6s 158us/step - loss: 0.0598 - accuracy: 0.5390 - val_loss: 0.0623 - val_accuracy: 0.5500\n",
      "Epoch 11/12\n",
      "37500/37500 [==============================] - 6s 158us/step - loss: 0.0598 - accuracy: 0.5378 - val_loss: 0.0622 - val_accuracy: 0.5528\n",
      "Epoch 12/12\n",
      "37500/37500 [==============================] - 6s 159us/step - loss: 0.0596 - accuracy: 0.5400 - val_loss: 0.0621 - val_accuracy: 0.5519\n"
     ]
    }
   ],
   "source": [
    "train_history=model.fit(x_img_train_normalize, y_label_train_OneHot,\n",
    "                        validation_split=0.25,\n",
    "                        epochs=12, batch_size=128, verbose=1)"
   ]
  },
  {
   "cell_type": "code",
   "execution_count": 29,
   "metadata": {},
   "outputs": [
    {
     "name": "stdout",
     "output_type": "stream",
     "text": [
      "10000/10000 [==============================] - 1s 103us/step\n",
      "\n",
      "accuracy= 0.5533999800682068\n",
      "loss= 0.06188971630334854\n"
     ]
    }
   ],
   "source": [
    "scores = model.evaluate(x_img_test_normalize, y_label_test_OneHot)\n",
    "print()\n",
    "print('accuracy=',scores[1])\n",
    "print('loss=',scores[0])"
   ]
  },
  {
   "cell_type": "code",
   "execution_count": 30,
   "metadata": {},
   "outputs": [],
   "source": [
    "model.compile(loss='binary_crossentropy', optimizer='sgd', metrics=['accuracy'])"
   ]
  },
  {
   "cell_type": "code",
   "execution_count": 31,
   "metadata": {},
   "outputs": [
    {
     "name": "stdout",
     "output_type": "stream",
     "text": [
      "Train on 37500 samples, validate on 12500 samples\n",
      "Epoch 1/12\n",
      "37500/37500 [==============================] - 6s 171us/step - loss: 0.2025 - accuracy: 0.9207 - val_loss: 0.2119 - val_accuracy: 0.9154\n",
      "Epoch 2/12\n",
      "37500/37500 [==============================] - 6s 159us/step - loss: 0.2018 - accuracy: 0.9209 - val_loss: 0.2118 - val_accuracy: 0.9156\n",
      "Epoch 3/12\n",
      "37500/37500 [==============================] - 6s 159us/step - loss: 0.2012 - accuracy: 0.9210 - val_loss: 0.2110 - val_accuracy: 0.9160\n",
      "Epoch 4/12\n",
      "37500/37500 [==============================] - 6s 161us/step - loss: 0.2009 - accuracy: 0.9215 - val_loss: 0.2108 - val_accuracy: 0.9161\n",
      "Epoch 5/12\n",
      "37500/37500 [==============================] - 6s 162us/step - loss: 0.2010 - accuracy: 0.9210 - val_loss: 0.2102 - val_accuracy: 0.9163\n",
      "Epoch 6/12\n",
      "37500/37500 [==============================] - 6s 162us/step - loss: 0.2008 - accuracy: 0.9211 - val_loss: 0.2103 - val_accuracy: 0.9160\n",
      "Epoch 7/12\n",
      "37500/37500 [==============================] - 6s 160us/step - loss: 0.1996 - accuracy: 0.9217 - val_loss: 0.2097 - val_accuracy: 0.9165\n",
      "Epoch 8/12\n",
      "37500/37500 [==============================] - 6s 162us/step - loss: 0.1985 - accuracy: 0.9223 - val_loss: 0.2094 - val_accuracy: 0.9166\n",
      "Epoch 9/12\n",
      "37500/37500 [==============================] - 6s 161us/step - loss: 0.1987 - accuracy: 0.9221 - val_loss: 0.2087 - val_accuracy: 0.9168\n",
      "Epoch 10/12\n",
      "37500/37500 [==============================] - 6s 163us/step - loss: 0.1984 - accuracy: 0.9221 - val_loss: 0.2086 - val_accuracy: 0.9166\n",
      "Epoch 11/12\n",
      "37500/37500 [==============================] - 6s 161us/step - loss: 0.1984 - accuracy: 0.9222 - val_loss: 0.2080 - val_accuracy: 0.9173\n",
      "Epoch 12/12\n",
      "37500/37500 [==============================] - 6s 160us/step - loss: 0.1978 - accuracy: 0.9225 - val_loss: 0.2079 - val_accuracy: 0.9171\n"
     ]
    }
   ],
   "source": [
    "train_history=model.fit(x_img_train_normalize, y_label_train_OneHot,\n",
    "                        validation_split=0.25,\n",
    "                        epochs=12, batch_size=128, verbose=1)"
   ]
  },
  {
   "cell_type": "code",
   "execution_count": 32,
   "metadata": {},
   "outputs": [
    {
     "name": "stdout",
     "output_type": "stream",
     "text": [
      "10000/10000 [==============================] - 1s 104us/step\n",
      "\n",
      "accuracy= 0.9171800017356873\n",
      "loss= 0.20653475830554963\n"
     ]
    }
   ],
   "source": [
    "scores = model.evaluate(x_img_test_normalize, y_label_test_OneHot)\n",
    "print()\n",
    "print('accuracy=',scores[1])\n",
    "print('loss=',scores[0])"
   ]
  },
  {
   "cell_type": "code",
   "execution_count": null,
   "metadata": {},
   "outputs": [],
   "source": []
  }
 ],
 "metadata": {
  "colab": {
   "name": "Day71-使用損失函數_HW.ipynb",
   "provenance": [],
   "version": "0.3.2"
  },
  "kernelspec": {
   "display_name": "Python 3",
   "language": "python",
   "name": "python3"
  },
  "language_info": {
   "codemirror_mode": {
    "name": "ipython",
    "version": 3
   },
   "file_extension": ".py",
   "mimetype": "text/x-python",
   "name": "python",
   "nbconvert_exporter": "python",
   "pygments_lexer": "ipython3",
   "version": "3.7.3"
  }
 },
 "nbformat": 4,
 "nbformat_minor": 1
}
