{
 "cells": [
  {
   "cell_type": "markdown",
   "metadata": {},
   "source": [
    "## Work\n",
    "1. 請嘗試將 preproc_x 替換成以每筆資料的 min/max 進行標準化至 -1 ~ 1 間，再進行訓練\n",
    "2. 請嘗試將 mlp 疊更深 (e.g 5~10 層)，進行訓練後觀察 learning curve 的走勢\n",
    "3. (optional) 請改用 GPU 進行訓練 (如果你有 GPU 的話)，比較使用 CPU 與 GPU 的訓練速度"
   ]
  },
  {
   "cell_type": "code",
   "execution_count": 4,
   "metadata": {},
   "outputs": [
    {
     "name": "stderr",
     "output_type": "stream",
     "text": [
      "Using TensorFlow backend.\n"
     ]
    }
   ],
   "source": [
    "import os\n",
    "import keras"
   ]
  },
  {
   "cell_type": "code",
   "execution_count": 5,
   "metadata": {},
   "outputs": [],
   "source": [
    "train, test = keras.datasets.cifar10.load_data()"
   ]
  },
  {
   "cell_type": "code",
   "execution_count": 12,
   "metadata": {},
   "outputs": [],
   "source": [
    "## 資料前處理\n",
    "\"\"\"\n",
    "Your code here\n",
    "\"\"\"\n",
    "def preproc_x(x, flatten=True):\n",
    "    x =x / 255.\n",
    "    if flatten:\n",
    "        x = x.reshape((len(x),-1))\n",
    "    return x\n",
    "\n",
    "def preproc_y(y,num_classes=10):\n",
    "    if y.shape[-1] == 1:\n",
    "        y = keras.utils.to_categorical(y, num_classes)\n",
    "    return y"
   ]
  },
  {
   "cell_type": "code",
   "execution_count": 13,
   "metadata": {},
   "outputs": [],
   "source": [
    "x_train, y_train = train\n",
    "x_test, y_test = test\n",
    "\n",
    "# Preproc the inputs\n",
    "x_train = preproc_x(x_train)\n",
    "x_test = preproc_x(x_test)\n",
    "\n",
    "# Preprc the outputs\n",
    "y_train = preproc_y(y_train)\n",
    "y_test = preproc_y(y_test)"
   ]
  },
  {
   "cell_type": "code",
   "execution_count": 14,
   "metadata": {},
   "outputs": [
    {
     "name": "stdout",
     "output_type": "stream",
     "text": [
      "Model: \"model_1\"\n",
      "_________________________________________________________________\n",
      "Layer (type)                 Output Shape              Param #   \n",
      "=================================================================\n",
      "input_1 (InputLayer)         (None, 3072)              0         \n",
      "_________________________________________________________________\n",
      "hidden_layer1 (Dense)        (None, 512)               1573376   \n",
      "_________________________________________________________________\n",
      "hidden_layer2 (Dense)        (None, 256)               131328    \n",
      "_________________________________________________________________\n",
      "hidden_layer3 (Dense)        (None, 128)               32896     \n",
      "_________________________________________________________________\n",
      "output (Dense)               (None, 10)                1290      \n",
      "=================================================================\n",
      "Total params: 1,738,890\n",
      "Trainable params: 1,738,890\n",
      "Non-trainable params: 0\n",
      "_________________________________________________________________\n"
     ]
    }
   ],
   "source": [
    "\"\"\"Code Here\n",
    "建立你的神經網路\n",
    "\"\"\"\n",
    "def build_mlp(input_shape, output_units=10, num_neurons=[512, 256, 128]):\n",
    "    input_layer = keras.layers.Input(input_shape)\n",
    "    \n",
    "    for i, n_units in enumerate(num_neurons):\n",
    "        if i == 0:\n",
    "            x = keras.layers.Dense(units=n_units, activation=\"relu\", name=\"hidden_layer\"+str(i+1))(input_layer)\n",
    "        else:\n",
    "            x = keras.layers.Dense(units=n_units, activation=\"relu\", name=\"hidden_layer\"+str(i+1))(x)\n",
    "    \n",
    "    out = keras.layers.Dense(units=output_units, activation=\"softmax\", name=\"output\")(x)\n",
    "    \n",
    "    model = keras.models.Model(inputs=[input_layer], outputs=[out])\n",
    "    return model\n",
    "\n",
    "model = build_mlp(input_shape=x_train.shape[1:])\n",
    "model.summary()"
   ]
  },
  {
   "cell_type": "code",
   "execution_count": 15,
   "metadata": {},
   "outputs": [],
   "source": [
    "## 超參數設定\n",
    "LEARNING_RATE = 0.001\n",
    "EPOCHS = 100\n",
    "BATCH_SIZE = 256"
   ]
  },
  {
   "cell_type": "code",
   "execution_count": 17,
   "metadata": {},
   "outputs": [],
   "source": [
    "optimizer = keras.optimizers.Adam(lr=LEARNING_RATE)\n",
    "model.compile(loss=\"categorical_crossentropy\", metrics=[\"accuracy\"], optimizer=optimizer)"
   ]
  },
  {
   "cell_type": "code",
   "execution_count": 18,
   "metadata": {},
   "outputs": [
    {
     "name": "stdout",
     "output_type": "stream",
     "text": [
      "Train on 50000 samples, validate on 10000 samples\n",
      "Epoch 1/100\n",
      "50000/50000 [==============================] - 3s 60us/step - loss: 1.9296 - accuracy: 0.3026 - val_loss: 1.8228 - val_accuracy: 0.3438\n",
      "Epoch 2/100\n",
      "50000/50000 [==============================] - 3s 51us/step - loss: 1.7224 - accuracy: 0.3803 - val_loss: 1.6765 - val_accuracy: 0.4045\n",
      "Epoch 3/100\n",
      "50000/50000 [==============================] - 3s 51us/step - loss: 1.6206 - accuracy: 0.4224 - val_loss: 1.6981 - val_accuracy: 0.3982\n",
      "Epoch 4/100\n",
      "50000/50000 [==============================] - 3s 52us/step - loss: 1.5546 - accuracy: 0.4441 - val_loss: 1.5632 - val_accuracy: 0.4408\n",
      "Epoch 5/100\n",
      "50000/50000 [==============================] - 3s 52us/step - loss: 1.5024 - accuracy: 0.4674 - val_loss: 1.5610 - val_accuracy: 0.4496\n",
      "Epoch 6/100\n",
      "50000/50000 [==============================] - 3s 52us/step - loss: 1.4594 - accuracy: 0.4812 - val_loss: 1.4869 - val_accuracy: 0.4708\n",
      "Epoch 7/100\n",
      "50000/50000 [==============================] - 3s 52us/step - loss: 1.4348 - accuracy: 0.4876 - val_loss: 1.5265 - val_accuracy: 0.4588\n",
      "Epoch 8/100\n",
      "50000/50000 [==============================] - 3s 52us/step - loss: 1.4016 - accuracy: 0.5009 - val_loss: 1.4409 - val_accuracy: 0.4859\n",
      "Epoch 9/100\n",
      "50000/50000 [==============================] - 3s 52us/step - loss: 1.3721 - accuracy: 0.5113 - val_loss: 1.4137 - val_accuracy: 0.4976\n",
      "Epoch 10/100\n",
      "50000/50000 [==============================] - 3s 52us/step - loss: 1.3455 - accuracy: 0.5200 - val_loss: 1.3868 - val_accuracy: 0.5045\n",
      "Epoch 11/100\n",
      "50000/50000 [==============================] - 3s 52us/step - loss: 1.3183 - accuracy: 0.5287 - val_loss: 1.4278 - val_accuracy: 0.4902\n",
      "Epoch 12/100\n",
      "50000/50000 [==============================] - 3s 52us/step - loss: 1.3120 - accuracy: 0.5311 - val_loss: 1.4651 - val_accuracy: 0.4853\n",
      "Epoch 13/100\n",
      "50000/50000 [==============================] - 3s 52us/step - loss: 1.2765 - accuracy: 0.5471 - val_loss: 1.3977 - val_accuracy: 0.5054\n",
      "Epoch 14/100\n",
      "50000/50000 [==============================] - 3s 52us/step - loss: 1.2398 - accuracy: 0.5598 - val_loss: 1.4334 - val_accuracy: 0.4976\n",
      "Epoch 15/100\n",
      "50000/50000 [==============================] - 3s 52us/step - loss: 1.2313 - accuracy: 0.5590 - val_loss: 1.3954 - val_accuracy: 0.5090\n",
      "Epoch 16/100\n",
      "50000/50000 [==============================] - 3s 53us/step - loss: 1.2048 - accuracy: 0.5741 - val_loss: 1.4567 - val_accuracy: 0.4807\n",
      "Epoch 17/100\n",
      "50000/50000 [==============================] - 3s 54us/step - loss: 1.1943 - accuracy: 0.5737 - val_loss: 1.4353 - val_accuracy: 0.5035\n",
      "Epoch 18/100\n",
      "50000/50000 [==============================] - 3s 53us/step - loss: 1.1625 - accuracy: 0.5873 - val_loss: 1.3490 - val_accuracy: 0.5266\n",
      "Epoch 19/100\n",
      "50000/50000 [==============================] - 3s 52us/step - loss: 1.1403 - accuracy: 0.5932 - val_loss: 1.4024 - val_accuracy: 0.5135\n",
      "Epoch 20/100\n",
      "50000/50000 [==============================] - 3s 52us/step - loss: 1.1218 - accuracy: 0.6003 - val_loss: 1.4151 - val_accuracy: 0.5127\n",
      "Epoch 21/100\n",
      "50000/50000 [==============================] - 3s 51us/step - loss: 1.1108 - accuracy: 0.6035 - val_loss: 1.3910 - val_accuracy: 0.5146\n",
      "Epoch 22/100\n",
      "50000/50000 [==============================] - 3s 52us/step - loss: 1.0832 - accuracy: 0.6149 - val_loss: 1.4302 - val_accuracy: 0.5045\n",
      "Epoch 23/100\n",
      "50000/50000 [==============================] - 3s 52us/step - loss: 1.0686 - accuracy: 0.6176 - val_loss: 1.3646 - val_accuracy: 0.5262\n",
      "Epoch 24/100\n",
      "50000/50000 [==============================] - 3s 52us/step - loss: 1.0427 - accuracy: 0.6271 - val_loss: 1.4047 - val_accuracy: 0.5220\n",
      "Epoch 25/100\n",
      "50000/50000 [==============================] - 3s 51us/step - loss: 1.0236 - accuracy: 0.6366 - val_loss: 1.4264 - val_accuracy: 0.5107\n",
      "Epoch 26/100\n",
      "50000/50000 [==============================] - 3s 51us/step - loss: 1.0067 - accuracy: 0.6398 - val_loss: 1.4178 - val_accuracy: 0.5142\n",
      "Epoch 27/100\n",
      "50000/50000 [==============================] - 3s 52us/step - loss: 0.9895 - accuracy: 0.6484 - val_loss: 1.4072 - val_accuracy: 0.5182\n",
      "Epoch 28/100\n",
      "50000/50000 [==============================] - 3s 52us/step - loss: 0.9675 - accuracy: 0.6544 - val_loss: 1.4669 - val_accuracy: 0.5067\n",
      "Epoch 29/100\n",
      "50000/50000 [==============================] - 3s 51us/step - loss: 0.9526 - accuracy: 0.6583 - val_loss: 1.4315 - val_accuracy: 0.5224\n",
      "Epoch 30/100\n",
      "50000/50000 [==============================] - 3s 52us/step - loss: 0.9434 - accuracy: 0.6635 - val_loss: 1.4320 - val_accuracy: 0.5180\n",
      "Epoch 31/100\n",
      "50000/50000 [==============================] - 3s 52us/step - loss: 0.9156 - accuracy: 0.6745 - val_loss: 1.4731 - val_accuracy: 0.5169\n",
      "Epoch 32/100\n",
      "50000/50000 [==============================] - 3s 51us/step - loss: 0.9089 - accuracy: 0.6740 - val_loss: 1.4591 - val_accuracy: 0.5218\n",
      "Epoch 33/100\n",
      "50000/50000 [==============================] - 3s 52us/step - loss: 0.8878 - accuracy: 0.6844 - val_loss: 1.4699 - val_accuracy: 0.5225\n",
      "Epoch 34/100\n",
      "50000/50000 [==============================] - 3s 51us/step - loss: 0.8753 - accuracy: 0.6887 - val_loss: 1.5222 - val_accuracy: 0.5075\n",
      "Epoch 35/100\n",
      "50000/50000 [==============================] - 3s 52us/step - loss: 0.8523 - accuracy: 0.6950 - val_loss: 1.5450 - val_accuracy: 0.5105\n",
      "Epoch 36/100\n",
      "50000/50000 [==============================] - 2s 50us/step - loss: 0.8407 - accuracy: 0.7016 - val_loss: 1.5421 - val_accuracy: 0.5188\n",
      "Epoch 37/100\n",
      "50000/50000 [==============================] - 3s 51us/step - loss: 0.8233 - accuracy: 0.7059 - val_loss: 1.5269 - val_accuracy: 0.5168\n",
      "Epoch 38/100\n",
      "50000/50000 [==============================] - 3s 52us/step - loss: 0.8176 - accuracy: 0.7101 - val_loss: 1.5412 - val_accuracy: 0.5191\n",
      "Epoch 39/100\n",
      "50000/50000 [==============================] - 3s 52us/step - loss: 0.7876 - accuracy: 0.7181 - val_loss: 1.5536 - val_accuracy: 0.5312\n",
      "Epoch 40/100\n",
      "50000/50000 [==============================] - 3s 51us/step - loss: 0.7798 - accuracy: 0.7222 - val_loss: 1.5768 - val_accuracy: 0.5155\n",
      "Epoch 41/100\n",
      "50000/50000 [==============================] - 3s 51us/step - loss: 0.7570 - accuracy: 0.7302 - val_loss: 1.6393 - val_accuracy: 0.5077\n",
      "Epoch 42/100\n",
      "50000/50000 [==============================] - 3s 52us/step - loss: 0.7514 - accuracy: 0.7320 - val_loss: 1.6097 - val_accuracy: 0.5177\n",
      "Epoch 43/100\n",
      "50000/50000 [==============================] - 3s 51us/step - loss: 0.7300 - accuracy: 0.7388 - val_loss: 1.6432 - val_accuracy: 0.5103\n",
      "Epoch 44/100\n",
      "50000/50000 [==============================] - 3s 51us/step - loss: 0.7186 - accuracy: 0.7434 - val_loss: 1.6700 - val_accuracy: 0.5114\n",
      "Epoch 45/100\n",
      "50000/50000 [==============================] - 3s 51us/step - loss: 0.7047 - accuracy: 0.7486 - val_loss: 1.6949 - val_accuracy: 0.5101\n",
      "Epoch 46/100\n",
      "50000/50000 [==============================] - 3s 51us/step - loss: 0.6971 - accuracy: 0.7503 - val_loss: 1.6912 - val_accuracy: 0.5104\n",
      "Epoch 47/100\n",
      "50000/50000 [==============================] - 3s 51us/step - loss: 0.6761 - accuracy: 0.7590 - val_loss: 1.7042 - val_accuracy: 0.5140\n",
      "Epoch 48/100\n",
      "50000/50000 [==============================] - 3s 51us/step - loss: 0.6653 - accuracy: 0.7629 - val_loss: 1.7302 - val_accuracy: 0.5153\n",
      "Epoch 49/100\n",
      "50000/50000 [==============================] - 3s 51us/step - loss: 0.6435 - accuracy: 0.7694 - val_loss: 1.7600 - val_accuracy: 0.5175\n",
      "Epoch 50/100\n",
      "50000/50000 [==============================] - 3s 51us/step - loss: 0.6463 - accuracy: 0.7689 - val_loss: 1.8275 - val_accuracy: 0.5099\n",
      "Epoch 51/100\n",
      "50000/50000 [==============================] - 3s 51us/step - loss: 0.6434 - accuracy: 0.7700 - val_loss: 1.8561 - val_accuracy: 0.5054\n",
      "Epoch 52/100\n",
      "50000/50000 [==============================] - 3s 52us/step - loss: 0.6155 - accuracy: 0.7800 - val_loss: 1.8229 - val_accuracy: 0.5111\n",
      "Epoch 53/100\n",
      "50000/50000 [==============================] - 3s 51us/step - loss: 0.6011 - accuracy: 0.7845 - val_loss: 1.8694 - val_accuracy: 0.5122\n",
      "Epoch 54/100\n",
      "50000/50000 [==============================] - 3s 52us/step - loss: 0.6041 - accuracy: 0.7831 - val_loss: 1.8834 - val_accuracy: 0.5104\n",
      "Epoch 55/100\n",
      "50000/50000 [==============================] - 3s 51us/step - loss: 0.5961 - accuracy: 0.7852 - val_loss: 1.9355 - val_accuracy: 0.5053\n"
     ]
    },
    {
     "name": "stdout",
     "output_type": "stream",
     "text": [
      "Epoch 56/100\n",
      "50000/50000 [==============================] - 3s 51us/step - loss: 0.5744 - accuracy: 0.7924 - val_loss: 1.9476 - val_accuracy: 0.5059\n",
      "Epoch 57/100\n",
      "50000/50000 [==============================] - 3s 52us/step - loss: 0.5606 - accuracy: 0.8006 - val_loss: 1.9808 - val_accuracy: 0.5095\n",
      "Epoch 58/100\n",
      "50000/50000 [==============================] - 3s 51us/step - loss: 0.5578 - accuracy: 0.8001 - val_loss: 1.9853 - val_accuracy: 0.5095\n",
      "Epoch 59/100\n",
      "50000/50000 [==============================] - 2s 50us/step - loss: 0.5434 - accuracy: 0.8052 - val_loss: 2.0513 - val_accuracy: 0.5108\n",
      "Epoch 60/100\n",
      "50000/50000 [==============================] - 3s 50us/step - loss: 0.5453 - accuracy: 0.8053 - val_loss: 2.0568 - val_accuracy: 0.5084\n",
      "Epoch 61/100\n",
      "50000/50000 [==============================] - 3s 50us/step - loss: 0.5244 - accuracy: 0.8108 - val_loss: 2.0871 - val_accuracy: 0.5074\n",
      "Epoch 62/100\n",
      "50000/50000 [==============================] - 3s 51us/step - loss: 0.5023 - accuracy: 0.8202 - val_loss: 2.1742 - val_accuracy: 0.4949\n",
      "Epoch 63/100\n",
      "50000/50000 [==============================] - 3s 52us/step - loss: 0.5211 - accuracy: 0.8103 - val_loss: 2.1975 - val_accuracy: 0.5047\n",
      "Epoch 64/100\n",
      "50000/50000 [==============================] - 3s 52us/step - loss: 0.5005 - accuracy: 0.8186 - val_loss: 2.2334 - val_accuracy: 0.5039\n",
      "Epoch 65/100\n",
      "50000/50000 [==============================] - 3s 52us/step - loss: 0.4752 - accuracy: 0.8293 - val_loss: 2.1664 - val_accuracy: 0.5091\n",
      "Epoch 66/100\n",
      "50000/50000 [==============================] - 3s 54us/step - loss: 0.4700 - accuracy: 0.8318 - val_loss: 2.2459 - val_accuracy: 0.5030\n",
      "Epoch 67/100\n",
      "50000/50000 [==============================] - 3s 52us/step - loss: 0.4697 - accuracy: 0.8301 - val_loss: 2.2363 - val_accuracy: 0.5045\n",
      "Epoch 68/100\n",
      "50000/50000 [==============================] - 3s 52us/step - loss: 0.4771 - accuracy: 0.8278 - val_loss: 2.2834 - val_accuracy: 0.4985\n",
      "Epoch 69/100\n",
      "50000/50000 [==============================] - 3s 54us/step - loss: 0.4462 - accuracy: 0.8385 - val_loss: 2.3792 - val_accuracy: 0.4989\n",
      "Epoch 70/100\n",
      "50000/50000 [==============================] - 3s 51us/step - loss: 0.4368 - accuracy: 0.8446 - val_loss: 2.3387 - val_accuracy: 0.4972\n",
      "Epoch 71/100\n",
      "50000/50000 [==============================] - 3s 52us/step - loss: 0.4444 - accuracy: 0.8396 - val_loss: 2.4681 - val_accuracy: 0.4987\n",
      "Epoch 72/100\n",
      "50000/50000 [==============================] - 3s 52us/step - loss: 0.4370 - accuracy: 0.8448 - val_loss: 2.4333 - val_accuracy: 0.4947\n",
      "Epoch 73/100\n",
      "50000/50000 [==============================] - 3s 51us/step - loss: 0.4179 - accuracy: 0.8500 - val_loss: 2.4898 - val_accuracy: 0.4933\n",
      "Epoch 74/100\n",
      "50000/50000 [==============================] - 3s 51us/step - loss: 0.4139 - accuracy: 0.8506 - val_loss: 2.4534 - val_accuracy: 0.5038\n",
      "Epoch 75/100\n",
      "50000/50000 [==============================] - 3s 53us/step - loss: 0.4120 - accuracy: 0.8510 - val_loss: 2.5395 - val_accuracy: 0.4993\n",
      "Epoch 76/100\n",
      "50000/50000 [==============================] - 3s 52us/step - loss: 0.3856 - accuracy: 0.8626 - val_loss: 2.5767 - val_accuracy: 0.4958\n",
      "Epoch 77/100\n",
      "50000/50000 [==============================] - 3s 52us/step - loss: 0.4180 - accuracy: 0.8483 - val_loss: 2.5701 - val_accuracy: 0.4999\n",
      "Epoch 78/100\n",
      "50000/50000 [==============================] - 3s 53us/step - loss: 0.3707 - accuracy: 0.8675 - val_loss: 2.6311 - val_accuracy: 0.4982\n",
      "Epoch 79/100\n",
      "50000/50000 [==============================] - 3s 53us/step - loss: 0.3926 - accuracy: 0.8584 - val_loss: 2.6709 - val_accuracy: 0.4965\n",
      "Epoch 80/100\n",
      "50000/50000 [==============================] - 3s 52us/step - loss: 0.3751 - accuracy: 0.8665 - val_loss: 2.6762 - val_accuracy: 0.4956\n",
      "Epoch 81/100\n",
      "50000/50000 [==============================] - 3s 52us/step - loss: 0.3902 - accuracy: 0.8592 - val_loss: 2.6724 - val_accuracy: 0.4954\n",
      "Epoch 82/100\n",
      "50000/50000 [==============================] - 3s 51us/step - loss: 0.3695 - accuracy: 0.8663 - val_loss: 2.6892 - val_accuracy: 0.5006\n",
      "Epoch 83/100\n",
      "50000/50000 [==============================] - 3s 53us/step - loss: 0.3588 - accuracy: 0.8727 - val_loss: 2.7568 - val_accuracy: 0.4926\n",
      "Epoch 84/100\n",
      "50000/50000 [==============================] - 3s 53us/step - loss: 0.3750 - accuracy: 0.8655 - val_loss: 2.7886 - val_accuracy: 0.4938\n",
      "Epoch 85/100\n",
      "50000/50000 [==============================] - 3s 53us/step - loss: 0.3416 - accuracy: 0.8774 - val_loss: 2.7855 - val_accuracy: 0.4964\n",
      "Epoch 86/100\n",
      "50000/50000 [==============================] - 3s 52us/step - loss: 0.3293 - accuracy: 0.8816 - val_loss: 2.8753 - val_accuracy: 0.4961\n",
      "Epoch 87/100\n",
      "50000/50000 [==============================] - 3s 51us/step - loss: 0.3479 - accuracy: 0.8755 - val_loss: 2.8972 - val_accuracy: 0.4950\n",
      "Epoch 88/100\n",
      "50000/50000 [==============================] - 3s 51us/step - loss: 0.3285 - accuracy: 0.8832 - val_loss: 2.8911 - val_accuracy: 0.4941\n",
      "Epoch 89/100\n",
      "50000/50000 [==============================] - 3s 51us/step - loss: 0.3394 - accuracy: 0.8784 - val_loss: 3.0786 - val_accuracy: 0.4894\n",
      "Epoch 90/100\n",
      "50000/50000 [==============================] - 3s 52us/step - loss: 0.3552 - accuracy: 0.8705 - val_loss: 2.9923 - val_accuracy: 0.4925\n",
      "Epoch 91/100\n",
      "50000/50000 [==============================] - 3s 51us/step - loss: 0.3221 - accuracy: 0.8848 - val_loss: 3.0531 - val_accuracy: 0.4848\n",
      "Epoch 92/100\n",
      "50000/50000 [==============================] - 3s 52us/step - loss: 0.3313 - accuracy: 0.8814 - val_loss: 3.0421 - val_accuracy: 0.4988\n",
      "Epoch 93/100\n",
      "50000/50000 [==============================] - 3s 51us/step - loss: 0.3019 - accuracy: 0.8923 - val_loss: 3.0990 - val_accuracy: 0.4886\n",
      "Epoch 94/100\n",
      "50000/50000 [==============================] - 3s 52us/step - loss: 0.3028 - accuracy: 0.8914 - val_loss: 3.0992 - val_accuracy: 0.4936\n",
      "Epoch 95/100\n",
      "50000/50000 [==============================] - 3s 52us/step - loss: 0.3558 - accuracy: 0.8716 - val_loss: 3.1542 - val_accuracy: 0.4857\n",
      "Epoch 96/100\n",
      "50000/50000 [==============================] - 3s 53us/step - loss: 0.3314 - accuracy: 0.8803 - val_loss: 3.0966 - val_accuracy: 0.4940\n",
      "Epoch 97/100\n",
      "50000/50000 [==============================] - 3s 53us/step - loss: 0.3018 - accuracy: 0.8924 - val_loss: 3.2220 - val_accuracy: 0.4916\n",
      "Epoch 98/100\n",
      "50000/50000 [==============================] - 3s 52us/step - loss: 0.2930 - accuracy: 0.8946 - val_loss: 3.2661 - val_accuracy: 0.4883\n",
      "Epoch 99/100\n",
      "50000/50000 [==============================] - 3s 52us/step - loss: 0.3214 - accuracy: 0.8847 - val_loss: 3.1515 - val_accuracy: 0.4959\n",
      "Epoch 100/100\n",
      "50000/50000 [==============================] - 3s 52us/step - loss: 0.2703 - accuracy: 0.9050 - val_loss: 3.3371 - val_accuracy: 0.4982\n"
     ]
    },
    {
     "data": {
      "text/plain": [
       "<keras.callbacks.callbacks.History at 0x2784c9cf0b8>"
      ]
     },
     "execution_count": 18,
     "metadata": {},
     "output_type": "execute_result"
    }
   ],
   "source": [
    "model.fit(x_train, y_train, \n",
    "          epochs=EPOCHS, \n",
    "          batch_size=BATCH_SIZE, \n",
    "          validation_data=(x_test, y_test), \n",
    "          shuffle=True)"
   ]
  },
  {
   "cell_type": "code",
   "execution_count": 20,
   "metadata": {},
   "outputs": [
    {
     "data": {
      "image/png": "[encoded data removed]",
      "text/plain": [
       "<Figure size 432x288 with 1 Axes>"
      ]
     },
     "metadata": {
      "needs_background": "light"
     },
     "output_type": "display_data"
    },
    {
     "data": {
      "image/png": "[encoded data removed]",
      "text/plain": [
       "<Figure size 432x288 with 1 Axes>"
      ]
     },
     "metadata": {
      "needs_background": "light"
     },
     "output_type": "display_data"
    }
   ],
   "source": [
    "import matplotlib.pyplot as plt\n",
    "\n",
    "\n",
    "train_loss = model.history.history[\"loss\"]\n",
    "valid_loss = model.history.history[\"val_loss\"]\n",
    "\n",
    "train_acc = model.history.history[\"accuracy\"]\n",
    "valid_acc = model.history.history[\"val_accuracy\"]\n",
    "\n",
    "plt.plot(range(len(train_loss)), train_loss, label=\"train loss\")\n",
    "plt.plot(range(len(valid_loss)), valid_loss, label=\"valid loss\")\n",
    "plt.legend()\n",
    "plt.title(\"Loss\")\n",
    "plt.show()\n",
    "\n",
    "plt.plot(range(len(train_acc)), train_acc, label=\"train accuracy\")\n",
    "plt.plot(range(len(valid_acc)), valid_acc, label=\"valid accuracy\")\n",
    "plt.legend()\n",
    "plt.title(\"Accuracy\")\n",
    "plt.show()"
   ]
  },
  {
   "cell_type": "code",
   "execution_count": null,
   "metadata": {},
   "outputs": [],
   "source": []
  }
 ],
 "metadata": {
  "kernelspec": {
   "display_name": "Python 3",
   "language": "python",
   "name": "python3"
  },
  "language_info": {
   "codemirror_mode": {
    "name": "ipython",
    "version": 3
   },
   "file_extension": ".py",
   "mimetype": "text/x-python",
   "name": "python",
   "nbconvert_exporter": "python",
   "pygments_lexer": "ipython3",
   "version": "3.7.3"
  }
 },
 "nbformat": 4,
 "nbformat_minor": 2
}
