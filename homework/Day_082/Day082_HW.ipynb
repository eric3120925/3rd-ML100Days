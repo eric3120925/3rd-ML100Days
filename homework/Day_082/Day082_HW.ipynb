{
 "cells": [
  {
   "cell_type": "markdown",
   "metadata": {},
   "source": [
    "## Work\n",
    "1. 請比較使用不同層數以及不同 Dropout rate 對訓練的效果\n",
    "2. 將 optimizer 改成使用 Adam 並加上適當的 dropout rate 檢視結果"
   ]
  },
  {
   "cell_type": "code",
   "execution_count": 1,
   "metadata": {},
   "outputs": [
    {
     "name": "stderr",
     "output_type": "stream",
     "text": [
      "Using TensorFlow backend.\n"
     ]
    }
   ],
   "source": [
    "import os\n",
    "import keras\n",
    "import itertools\n",
    "# Disable GPU\n",
    "os.environ[\"CUDA_VISIBLE_DEVICES\"] = \"0\""
   ]
  },
  {
   "cell_type": "code",
   "execution_count": 2,
   "metadata": {},
   "outputs": [],
   "source": [
    "train, test = keras.datasets.cifar10.load_data()"
   ]
  },
  {
   "cell_type": "code",
   "execution_count": 3,
   "metadata": {},
   "outputs": [],
   "source": [
    "## 資料前處理\n",
    "def preproc_x(x, flatten=True):\n",
    "    x = x / 255.\n",
    "    if flatten:\n",
    "        x = x.reshape((len(x), -1))\n",
    "    return x\n",
    "\n",
    "def preproc_y(y, num_classes=10):\n",
    "    if y.shape[-1] == 1:\n",
    "        y = keras.utils.to_categorical(y, num_classes)\n",
    "    return y    "
   ]
  },
  {
   "cell_type": "code",
   "execution_count": 4,
   "metadata": {},
   "outputs": [],
   "source": [
    "x_train, y_train = train\n",
    "x_test, y_test = test\n",
    "\n",
    "# Preproc the inputs\n",
    "x_train = preproc_x(x_train)\n",
    "x_test = preproc_x(x_test)\n",
    "\n",
    "# Preprc the outputs\n",
    "y_train = preproc_y(y_train)\n",
    "y_test = preproc_y(y_test)"
   ]
  },
  {
   "cell_type": "code",
   "execution_count": 5,
   "metadata": {},
   "outputs": [],
   "source": [
    "from keras.layers import Dropout\n",
    "def build_mlp(input_shape, output_units=10, num_neurons=[512, 256, 128], drp_ratio=0.2):\n",
    "    input_layer = keras.layers.Input(input_shape)\n",
    "    \n",
    "    for i, n_units in enumerate(num_neurons):\n",
    "        if i == 0:\n",
    "            x = keras.layers.Dense(units=n_units, activation=\"relu\", name=\"hidden_layer\"+str(i+1),)(input_layer)\n",
    "            x = Dropout(drp_ratio)(x)\n",
    "        else:\n",
    "            x = keras.layers.Dense(units=n_units, activation=\"relu\",  name=\"hidden_layer\"+str(i+1),)(x)\n",
    "            x = Dropout(drp_ratio)(x)\n",
    "    \n",
    "    out = keras.layers.Dense(units=output_units, activation=\"softmax\", name=\"output\")(x)\n",
    "    \n",
    "    model = keras.models.Model(inputs=[input_layer], outputs=[out])\n",
    "    return model"
   ]
  },
  {
   "cell_type": "code",
   "execution_count": 6,
   "metadata": {},
   "outputs": [],
   "source": [
    "LEARNING_RATE = 1e-3\n",
    "EPOCHS = 50\n",
    "BATCH_SIZE = 256\n",
    "MOMENTUM = 0.95\n",
    "DROPOUT_EXP=0.1"
   ]
  },
  {
   "cell_type": "code",
   "execution_count": 8,
   "metadata": {
    "scrolled": true
   },
   "outputs": [
    {
     "name": "stdout",
     "output_type": "stream",
     "text": [
      "Model: \"model_2\"\n",
      "_________________________________________________________________\n",
      "Layer (type)                 Output Shape              Param #   \n",
      "=================================================================\n",
      "input_2 (InputLayer)         (None, 3072)              0         \n",
      "_________________________________________________________________\n",
      "hidden_layer1 (Dense)        (None, 512)               1573376   \n",
      "_________________________________________________________________\n",
      "dropout_4 (Dropout)          (None, 512)               0         \n",
      "_________________________________________________________________\n",
      "hidden_layer2 (Dense)        (None, 256)               131328    \n",
      "_________________________________________________________________\n",
      "dropout_5 (Dropout)          (None, 256)               0         \n",
      "_________________________________________________________________\n",
      "hidden_layer3 (Dense)        (None, 128)               32896     \n",
      "_________________________________________________________________\n",
      "dropout_6 (Dropout)          (None, 128)               0         \n",
      "_________________________________________________________________\n",
      "output (Dense)               (None, 10)                1290      \n",
      "=================================================================\n",
      "Total params: 1,738,890\n",
      "Trainable params: 1,738,890\n",
      "Non-trainable params: 0\n",
      "_________________________________________________________________\n",
      "Train on 50000 samples, validate on 10000 samples\n",
      "Epoch 1/50\n",
      "50000/50000 [==============================] - 3s 68us/step - loss: 2.0107 - accuracy: 0.2649 - val_loss: 1.7754 - val_accuracy: 0.3567\n",
      "Epoch 2/50\n",
      "50000/50000 [==============================] - 3s 55us/step - loss: 1.7812 - accuracy: 0.3596 - val_loss: 1.6808 - val_accuracy: 0.3992\n",
      "Epoch 3/50\n",
      "50000/50000 [==============================] - 3s 54us/step - loss: 1.7066 - accuracy: 0.3884 - val_loss: 1.6172 - val_accuracy: 0.4257\n",
      "Epoch 4/50\n",
      "50000/50000 [==============================] - 3s 55us/step - loss: 1.6516 - accuracy: 0.4064 - val_loss: 1.5778 - val_accuracy: 0.4444\n",
      "Epoch 5/50\n",
      "50000/50000 [==============================] - 3s 54us/step - loss: 1.6049 - accuracy: 0.4258 - val_loss: 1.5364 - val_accuracy: 0.4569\n",
      "Epoch 6/50\n",
      "50000/50000 [==============================] - 3s 55us/step - loss: 1.5807 - accuracy: 0.4341 - val_loss: 1.5068 - val_accuracy: 0.4646\n",
      "Epoch 7/50\n",
      "50000/50000 [==============================] - 3s 55us/step - loss: 1.5537 - accuracy: 0.4409 - val_loss: 1.4816 - val_accuracy: 0.4719\n",
      "Epoch 8/50\n",
      "50000/50000 [==============================] - 3s 53us/step - loss: 1.5202 - accuracy: 0.4542 - val_loss: 1.4862 - val_accuracy: 0.4697\n",
      "Epoch 9/50\n",
      "50000/50000 [==============================] - 3s 55us/step - loss: 1.4998 - accuracy: 0.4618 - val_loss: 1.4736 - val_accuracy: 0.4749\n",
      "Epoch 10/50\n",
      "50000/50000 [==============================] - 3s 53us/step - loss: 1.4853 - accuracy: 0.4668 - val_loss: 1.4495 - val_accuracy: 0.4870\n",
      "Epoch 11/50\n",
      "50000/50000 [==============================] - 3s 53us/step - loss: 1.4704 - accuracy: 0.4722 - val_loss: 1.4549 - val_accuracy: 0.4737\n",
      "Epoch 12/50\n",
      "50000/50000 [==============================] - 3s 54us/step - loss: 1.4494 - accuracy: 0.4786 - val_loss: 1.4799 - val_accuracy: 0.4672\n",
      "Epoch 13/50\n",
      "50000/50000 [==============================] - 3s 58us/step - loss: 1.4456 - accuracy: 0.4803 - val_loss: 1.4179 - val_accuracy: 0.4949\n",
      "Epoch 14/50\n",
      "50000/50000 [==============================] - 3s 55us/step - loss: 1.4242 - accuracy: 0.4855 - val_loss: 1.4167 - val_accuracy: 0.5001\n",
      "Epoch 15/50\n",
      "50000/50000 [==============================] - 3s 51us/step - loss: 1.4160 - accuracy: 0.4914 - val_loss: 1.3997 - val_accuracy: 0.5033\n",
      "Epoch 16/50\n",
      "50000/50000 [==============================] - 3s 52us/step - loss: 1.4082 - accuracy: 0.4927 - val_loss: 1.4166 - val_accuracy: 0.4918\n",
      "Epoch 17/50\n",
      "50000/50000 [==============================] - 3s 52us/step - loss: 1.3927 - accuracy: 0.4995 - val_loss: 1.4062 - val_accuracy: 0.4984\n",
      "Epoch 18/50\n",
      "50000/50000 [==============================] - 3s 51us/step - loss: 1.3881 - accuracy: 0.5024 - val_loss: 1.3768 - val_accuracy: 0.5111\n",
      "Epoch 19/50\n",
      "50000/50000 [==============================] - 3s 51us/step - loss: 1.3682 - accuracy: 0.5072 - val_loss: 1.3872 - val_accuracy: 0.5098\n",
      "Epoch 20/50\n",
      "50000/50000 [==============================] - 3s 51us/step - loss: 1.3657 - accuracy: 0.5087 - val_loss: 1.3840 - val_accuracy: 0.5058\n",
      "Epoch 21/50\n",
      "50000/50000 [==============================] - 3s 51us/step - loss: 1.3501 - accuracy: 0.5144 - val_loss: 1.4097 - val_accuracy: 0.4971\n",
      "Epoch 22/50\n",
      "50000/50000 [==============================] - 3s 51us/step - loss: 1.3506 - accuracy: 0.5147 - val_loss: 1.3890 - val_accuracy: 0.5051\n",
      "Epoch 23/50\n",
      "50000/50000 [==============================] - 3s 52us/step - loss: 1.3347 - accuracy: 0.5179 - val_loss: 1.3639 - val_accuracy: 0.5178\n",
      "Epoch 24/50\n",
      "50000/50000 [==============================] - 3s 54us/step - loss: 1.3256 - accuracy: 0.5249 - val_loss: 1.3866 - val_accuracy: 0.5059\n",
      "Epoch 25/50\n",
      "50000/50000 [==============================] - 3s 54us/step - loss: 1.3156 - accuracy: 0.5252 - val_loss: 1.3495 - val_accuracy: 0.5193\n",
      "Epoch 26/50\n",
      "50000/50000 [==============================] - 3s 56us/step - loss: 1.3097 - accuracy: 0.5288 - val_loss: 1.3712 - val_accuracy: 0.5094\n",
      "Epoch 27/50\n",
      "50000/50000 [==============================] - 3s 52us/step - loss: 1.3047 - accuracy: 0.5299 - val_loss: 1.3635 - val_accuracy: 0.5137\n",
      "Epoch 28/50\n",
      "50000/50000 [==============================] - 3s 52us/step - loss: 1.2956 - accuracy: 0.5348 - val_loss: 1.3806 - val_accuracy: 0.5142\n",
      "Epoch 29/50\n",
      "50000/50000 [==============================] - 3s 51us/step - loss: 1.2815 - accuracy: 0.5395 - val_loss: 1.3885 - val_accuracy: 0.5136\n",
      "Epoch 30/50\n",
      "50000/50000 [==============================] - 3s 53us/step - loss: 1.2867 - accuracy: 0.5368 - val_loss: 1.3447 - val_accuracy: 0.5207\n",
      "Epoch 31/50\n",
      "50000/50000 [==============================] - 3s 53us/step - loss: 1.2778 - accuracy: 0.5383 - val_loss: 1.3732 - val_accuracy: 0.5087\n",
      "Epoch 32/50\n",
      "50000/50000 [==============================] - 3s 54us/step - loss: 1.2751 - accuracy: 0.5421 - val_loss: 1.3483 - val_accuracy: 0.5184\n",
      "Epoch 33/50\n",
      "50000/50000 [==============================] - 3s 56us/step - loss: 1.2666 - accuracy: 0.5452 - val_loss: 1.3370 - val_accuracy: 0.5236\n",
      "Epoch 34/50\n",
      "50000/50000 [==============================] - 3s 54us/step - loss: 1.2577 - accuracy: 0.5474 - val_loss: 1.3904 - val_accuracy: 0.5017\n",
      "Epoch 35/50\n",
      "50000/50000 [==============================] - 3s 53us/step - loss: 1.2481 - accuracy: 0.5488 - val_loss: 1.3592 - val_accuracy: 0.5155\n",
      "Epoch 36/50\n",
      "50000/50000 [==============================] - 3s 52us/step - loss: 1.2509 - accuracy: 0.5471 - val_loss: 1.3680 - val_accuracy: 0.5126\n",
      "Epoch 37/50\n",
      "50000/50000 [==============================] - 3s 52us/step - loss: 1.2470 - accuracy: 0.5528 - val_loss: 1.3463 - val_accuracy: 0.5222\n",
      "Epoch 38/50\n",
      "50000/50000 [==============================] - 3s 52us/step - loss: 1.2396 - accuracy: 0.5526 - val_loss: 1.3593 - val_accuracy: 0.5145\n",
      "Epoch 39/50\n",
      "50000/50000 [==============================] - 3s 52us/step - loss: 1.2355 - accuracy: 0.5550 - val_loss: 1.3684 - val_accuracy: 0.5121\n",
      "Epoch 40/50\n",
      "50000/50000 [==============================] - 3s 53us/step - loss: 1.2297 - accuracy: 0.5549 - val_loss: 1.3845 - val_accuracy: 0.5038\n",
      "Epoch 41/50\n",
      "50000/50000 [==============================] - 3s 52us/step - loss: 1.2254 - accuracy: 0.5568 - val_loss: 1.3420 - val_accuracy: 0.5265\n",
      "Epoch 42/50\n",
      "50000/50000 [==============================] - 3s 52us/step - loss: 1.2148 - accuracy: 0.5591 - val_loss: 1.3488 - val_accuracy: 0.5208\n",
      "Epoch 43/50\n",
      "50000/50000 [==============================] - 3s 54us/step - loss: 1.2102 - accuracy: 0.5623 - val_loss: 1.3435 - val_accuracy: 0.5267\n",
      "Epoch 44/50\n",
      "50000/50000 [==============================] - 3s 51us/step - loss: 1.2004 - accuracy: 0.5657 - val_loss: 1.3430 - val_accuracy: 0.5268\n",
      "Epoch 45/50\n",
      "50000/50000 [==============================] - 3s 53us/step - loss: 1.2141 - accuracy: 0.5612 - val_loss: 1.3639 - val_accuracy: 0.5205\n",
      "Epoch 46/50\n"
     ]
    },
    {
     "name": "stdout",
     "output_type": "stream",
     "text": [
      "50000/50000 [==============================] - 3s 52us/step - loss: 1.2008 - accuracy: 0.5681 - val_loss: 1.3487 - val_accuracy: 0.5276\n",
      "Epoch 47/50\n",
      "50000/50000 [==============================] - 3s 52us/step - loss: 1.2009 - accuracy: 0.5672 - val_loss: 1.3487 - val_accuracy: 0.5202\n",
      "Epoch 48/50\n",
      "50000/50000 [==============================] - 3s 52us/step - loss: 1.1887 - accuracy: 0.5727 - val_loss: 1.3592 - val_accuracy: 0.5222\n",
      "Epoch 49/50\n",
      "50000/50000 [==============================] - 3s 55us/step - loss: 1.1871 - accuracy: 0.5676 - val_loss: 1.3440 - val_accuracy: 0.5235\n",
      "Epoch 50/50\n",
      "50000/50000 [==============================] - 3s 52us/step - loss: 1.1793 - accuracy: 0.5742 - val_loss: 1.3529 - val_accuracy: 0.5240\n"
     ]
    }
   ],
   "source": [
    "results = {}\n",
    "model = build_mlp(input_shape=x_train.shape[1:], drp_ratio=DROPOUT_EXP)\n",
    "model.summary()\n",
    "optimizer = keras.optimizers.Adam(lr=LEARNING_RATE)\n",
    "model.compile(loss=\"categorical_crossentropy\", metrics=[\"accuracy\"], optimizer=optimizer)\n",
    "\n",
    "model.fit(x_train, y_train, \n",
    "          epochs=EPOCHS, \n",
    "          batch_size=BATCH_SIZE, \n",
    "          validation_data=(x_test, y_test),  \n",
    "          shuffle=True)\n",
    "    \n",
    "# Collect results\n",
    "train_loss = model.history.history[\"loss\"]\n",
    "valid_loss = model.history.history[\"val_loss\"]\n",
    "train_acc = model.history.history[\"accuracy\"]\n",
    "valid_acc = model.history.history[\"val_accuracy\"]"
   ]
  },
  {
   "cell_type": "code",
   "execution_count": 9,
   "metadata": {},
   "outputs": [
    {
     "data": {
      "image/png": "[encoded data removed]",
      "text/plain": [
       "<Figure size 432x288 with 1 Axes>"
      ]
     },
     "metadata": {
      "needs_background": "light"
     },
     "output_type": "display_data"
    },
    {
     "data": {
      "image/png": "[encoded data removed]",
      "text/plain": [
       "<Figure size 432x288 with 1 Axes>"
      ]
     },
     "metadata": {
      "needs_background": "light"
     },
     "output_type": "display_data"
    }
   ],
   "source": [
    "import matplotlib.pyplot as plt\n",
    "%matplotlib inline\n",
    "\n",
    "plt.plot(range(len(train_loss)), train_loss, label=\"train loss\")\n",
    "plt.plot(range(len(valid_loss)), valid_loss, label=\"valid loss\")\n",
    "plt.legend()\n",
    "plt.title(\"Loss\")\n",
    "plt.show()\n",
    "\n",
    "plt.plot(range(len(train_acc)), train_acc, label=\"train accuracy\")\n",
    "plt.plot(range(len(valid_acc)), valid_acc, label=\"valid accuracy\")\n",
    "plt.legend()\n",
    "plt.title(\"Accuracy\")\n",
    "plt.show()"
   ]
  },
  {
   "cell_type": "code",
   "execution_count": null,
   "metadata": {},
   "outputs": [],
   "source": []
  }
 ],
 "metadata": {
  "kernelspec": {
   "display_name": "Python 3",
   "language": "python",
   "name": "python3"
  },
  "language_info": {
   "codemirror_mode": {
    "name": "ipython",
    "version": 3
   },
   "file_extension": ".py",
   "mimetype": "text/x-python",
   "name": "python",
   "nbconvert_exporter": "python",
   "pygments_lexer": "ipython3",
   "version": "3.7.3"
  }
 },
 "nbformat": 4,
 "nbformat_minor": 2
}
